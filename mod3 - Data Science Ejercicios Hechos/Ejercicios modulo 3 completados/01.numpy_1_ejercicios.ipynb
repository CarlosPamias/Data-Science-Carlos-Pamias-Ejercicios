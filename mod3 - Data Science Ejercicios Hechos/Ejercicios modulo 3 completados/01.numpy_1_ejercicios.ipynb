{
 "cells": [
  {
   "cell_type": "markdown",
   "id": "94338a65",
   "metadata": {},
   "source": [
    "## Ejercicios - NumPy 1"
   ]
  },
  {
   "cell_type": "code",
   "execution_count": 1,
   "id": "c5e694ac",
   "metadata": {},
   "outputs": [],
   "source": [
    "import numpy as np"
   ]
  },
  {
   "cell_type": "code",
   "execution_count": 2,
   "id": "230265d0-4569-4582-84ca-845fcb91aed6",
   "metadata": {
    "tags": []
   },
   "outputs": [
    {
     "name": "stdout",
     "output_type": "stream",
     "text": [
      "numpy==2.2.0\n"
     ]
    }
   ],
   "source": [
    "# Versión\n",
    "print(f\"numpy=={np.__version__}\")"
   ]
  },
  {
   "cell_type": "markdown",
   "id": "fa919e9a",
   "metadata": {},
   "source": [
    "### Ejercicio 1:\n",
    "- Crea un vector con 10 elementos pares."
   ]
  },
  {
   "cell_type": "code",
   "execution_count": 3,
   "id": "12914c1b",
   "metadata": {},
   "outputs": [
    {
     "data": {
      "text/plain": [
       "array([ 0,  2,  4,  6,  8, 10, 12, 14, 16, 18])"
      ]
     },
     "execution_count": 3,
     "metadata": {},
     "output_type": "execute_result"
    }
   ],
   "source": [
    "lista = []\n",
    "for i in range(20):\n",
    "    if i % 2 == 0:\n",
    "        lista.append(i)\n",
    "\n",
    "np.array(lista)"
   ]
  },
  {
   "cell_type": "code",
   "execution_count": 4,
   "id": "dec735d3",
   "metadata": {},
   "outputs": [
    {
     "data": {
      "text/plain": [
       "array([ 2,  4,  6,  8, 10, 12, 14, 16, 18, 20])"
      ]
     },
     "execution_count": 4,
     "metadata": {},
     "output_type": "execute_result"
    }
   ],
   "source": [
    "lista = []\n",
    "for i in range(2, 22, 2):\n",
    "    lista.append(i)\n",
    "\n",
    "np.array(lista)"
   ]
  },
  {
   "cell_type": "code",
   "execution_count": 5,
   "id": "e37dc4bb",
   "metadata": {},
   "outputs": [
    {
     "data": {
      "text/plain": [
       "array([ 2,  4,  6,  8, 10, 12, 14, 16, 18, 20])"
      ]
     },
     "execution_count": 5,
     "metadata": {},
     "output_type": "execute_result"
    }
   ],
   "source": [
    "array_pares = np.array([i for i in range(2, 22, 2)])\n",
    "array_pares"
   ]
  },
  {
   "cell_type": "markdown",
   "id": "83420425",
   "metadata": {},
   "source": [
    "### Ejercicio 2:\n",
    "- Obten el número de dimensiones y el tamaño del vector anterior."
   ]
  },
  {
   "cell_type": "code",
   "execution_count": 6,
   "id": "3216bb58",
   "metadata": {},
   "outputs": [
    {
     "data": {
      "text/plain": [
       "1"
      ]
     },
     "execution_count": 6,
     "metadata": {},
     "output_type": "execute_result"
    }
   ],
   "source": [
    "array_pares.ndim"
   ]
  },
  {
   "cell_type": "code",
   "execution_count": 7,
   "id": "ef81c396",
   "metadata": {},
   "outputs": [
    {
     "data": {
      "text/plain": [
       "10"
      ]
     },
     "execution_count": 7,
     "metadata": {},
     "output_type": "execute_result"
    }
   ],
   "source": [
    "# numero de elementos en total\n",
    "array_pares.size"
   ]
  },
  {
   "cell_type": "code",
   "execution_count": 8,
   "id": "cb679748",
   "metadata": {},
   "outputs": [
    {
     "data": {
      "text/plain": [
       "(10,)"
      ]
     },
     "execution_count": 8,
     "metadata": {},
     "output_type": "execute_result"
    }
   ],
   "source": [
    "# numero de elementos en cada dimension\n",
    "array_pares.shape"
   ]
  },
  {
   "cell_type": "code",
   "execution_count": 9,
   "id": "791be7d1",
   "metadata": {},
   "outputs": [
    {
     "data": {
      "text/plain": [
       "dtype('int64')"
      ]
     },
     "execution_count": 9,
     "metadata": {},
     "output_type": "execute_result"
    }
   ],
   "source": [
    "array_pares.dtype"
   ]
  },
  {
   "cell_type": "code",
   "execution_count": 10,
   "id": "84b5ce82",
   "metadata": {},
   "outputs": [
    {
     "data": {
      "text/plain": [
       "array([10, 10, 20, 20, 30, 30])"
      ]
     },
     "execution_count": 10,
     "metadata": {},
     "output_type": "execute_result"
    }
   ],
   "source": [
    "array = np.array([10, 10, 20, 20, 30, 30])\n",
    "array"
   ]
  },
  {
   "cell_type": "code",
   "execution_count": 11,
   "id": "eea030e0",
   "metadata": {},
   "outputs": [
    {
     "data": {
      "text/plain": [
       "array([ 10,  20,  40,  60,  90, 120])"
      ]
     },
     "execution_count": 11,
     "metadata": {},
     "output_type": "execute_result"
    }
   ],
   "source": [
    "array_acumulado = np.cumsum(array)\n",
    "array_acumulado"
   ]
  },
  {
   "cell_type": "code",
   "execution_count": 12,
   "id": "6e8a2b81",
   "metadata": {},
   "outputs": [
    {
     "data": {
      "text/plain": [
       "array([10, 20, 20, 30, 30])"
      ]
     },
     "execution_count": 12,
     "metadata": {},
     "output_type": "execute_result"
    }
   ],
   "source": [
    "np.diff(array_acumulado)"
   ]
  },
  {
   "cell_type": "code",
   "execution_count": 13,
   "id": "cf21ded0",
   "metadata": {},
   "outputs": [
    {
     "data": {
      "text/plain": [
       "array([10, 10, 20, 20, 30, 30])"
      ]
     },
     "execution_count": 13,
     "metadata": {},
     "output_type": "execute_result"
    }
   ],
   "source": [
    "# agregar el primero manualmente ya que no tiene ninguno delante para obtener el diff\n",
    "original = np.insert(np.diff(array_acumulado), 0, array_acumulado[0])\n",
    "original"
   ]
  },
  {
   "cell_type": "code",
   "execution_count": null,
   "id": "df9c33c7",
   "metadata": {},
   "outputs": [],
   "source": []
  },
  {
   "cell_type": "markdown",
   "id": "50b94f88",
   "metadata": {},
   "source": [
    "### Ejercicio 3:\n",
    "- Crea una lista con 5 números pares y otra lista con 5 números impares utilizando **list comprehension** y conviertelos en una matriz de (5, 2) dimensiones."
   ]
  },
  {
   "cell_type": "code",
   "execution_count": 14,
   "id": "d7d36430",
   "metadata": {},
   "outputs": [
    {
     "data": {
      "text/plain": [
       "array([ 2,  4,  6,  8, 10])"
      ]
     },
     "execution_count": 14,
     "metadata": {},
     "output_type": "execute_result"
    }
   ],
   "source": [
    "pares = np.array([i for i in range(2, 11, 2)])\n",
    "pares"
   ]
  },
  {
   "cell_type": "code",
   "execution_count": 15,
   "id": "934f37da",
   "metadata": {},
   "outputs": [
    {
     "data": {
      "text/plain": [
       "array([1, 3, 5, 7, 9])"
      ]
     },
     "execution_count": 15,
     "metadata": {},
     "output_type": "execute_result"
    }
   ],
   "source": [
    "impares = np.array([i for i in range(1, 11, 2)])\n",
    "impares"
   ]
  },
  {
   "cell_type": "code",
   "execution_count": 16,
   "id": "5f8738d9",
   "metadata": {},
   "outputs": [
    {
     "data": {
      "text/plain": [
       "array([ 2,  4,  6,  8, 10,  1,  3,  5,  7,  9])"
      ]
     },
     "execution_count": 16,
     "metadata": {},
     "output_type": "execute_result"
    }
   ],
   "source": [
    "# concatenate y reshape. Por defecto es axis=0. Como es vector de 1 dimensión, axis 1 da error, no hay dos dimensiones\n",
    "numbers = np.concatenate((pares, impares))\n",
    "numbers"
   ]
  },
  {
   "cell_type": "code",
   "execution_count": 17,
   "id": "a46adfc2",
   "metadata": {},
   "outputs": [
    {
     "data": {
      "text/plain": [
       "array([[ 2,  4],\n",
       "       [ 6,  8],\n",
       "       [10,  1],\n",
       "       [ 3,  5],\n",
       "       [ 7,  9]])"
      ]
     },
     "execution_count": 17,
     "metadata": {},
     "output_type": "execute_result"
    }
   ],
   "source": [
    "matriz_5x2 = numbers.reshape(5, 2)\n",
    "matriz_5x2\n"
   ]
  },
  {
   "cell_type": "code",
   "execution_count": 18,
   "id": "52ab96be",
   "metadata": {},
   "outputs": [
    {
     "data": {
      "text/plain": [
       "(5, 2)"
      ]
     },
     "execution_count": 18,
     "metadata": {},
     "output_type": "execute_result"
    }
   ],
   "source": [
    "matriz_5x2.shape"
   ]
  },
  {
   "cell_type": "code",
   "execution_count": 19,
   "id": "41891cc0",
   "metadata": {},
   "outputs": [
    {
     "data": {
      "text/plain": [
       "array([ 2,  4,  6,  8, 10,  1,  3,  5,  7,  9])"
      ]
     },
     "execution_count": 19,
     "metadata": {},
     "output_type": "execute_result"
    }
   ],
   "source": [
    "# lo aplana de 2 dimensiones a una dimensión:\n",
    "matriz_5x2.flatten()"
   ]
  },
  {
   "cell_type": "code",
   "execution_count": 20,
   "id": "f1cfe220",
   "metadata": {},
   "outputs": [
    {
     "data": {
      "text/plain": [
       "array([ 2,  4,  6,  8, 10,  1,  3,  5,  7,  9])"
      ]
     },
     "execution_count": 20,
     "metadata": {},
     "output_type": "execute_result"
    }
   ],
   "source": [
    "np.ravel(matriz_5x2)"
   ]
  },
  {
   "cell_type": "code",
   "execution_count": 21,
   "id": "2f5b2557",
   "metadata": {},
   "outputs": [
    {
     "data": {
      "text/plain": [
       "array([[ 2,  1],\n",
       "       [ 4,  3],\n",
       "       [ 6,  5],\n",
       "       [ 8,  7],\n",
       "       [10,  9]])"
      ]
     },
     "execution_count": 21,
     "metadata": {},
     "output_type": "execute_result"
    }
   ],
   "source": [
    "# esto interesa si los datos son pareados, y están relacionados,\n",
    "# Por ejemplo si queremos combinar elemento a elemento de un array city_consumption con road_consumption\n",
    "np.column_stack((pares, impares))"
   ]
  },
  {
   "cell_type": "code",
   "execution_count": 22,
   "id": "0a103d36",
   "metadata": {},
   "outputs": [
    {
     "name": "stdout",
     "output_type": "stream",
     "text": [
      "[ 2  4  6  8 10]\n",
      "(array([2, 3, 4]),)\n"
     ]
    }
   ],
   "source": [
    "print(pares)\n",
    "print(np.where(pares > 5))"
   ]
  },
  {
   "cell_type": "code",
   "execution_count": 23,
   "id": "0922784c",
   "metadata": {},
   "outputs": [
    {
     "data": {
      "text/plain": [
       "array([ 6,  8, 10])"
      ]
     },
     "execution_count": 23,
     "metadata": {},
     "output_type": "execute_result"
    }
   ],
   "source": [
    "indices = np.where(pares > 5) # devuelve los indices de los elementos que cumplen con la condiciones/es\n",
    "pares[indices] # usamos los indices como filtros"
   ]
  },
  {
   "cell_type": "code",
   "execution_count": 24,
   "id": "4e46d176",
   "metadata": {},
   "outputs": [],
   "source": [
    "# en pandas\n",
    "# filtro = df['price'] > 20\n",
    "# df[filtro]"
   ]
  },
  {
   "cell_type": "markdown",
   "id": "5a6d6f9b",
   "metadata": {},
   "source": [
    "### Ejercicio 4:\n",
    "- Obten el tipo de datos de la matriz anterior."
   ]
  },
  {
   "cell_type": "code",
   "execution_count": 25,
   "id": "39f29d4f",
   "metadata": {},
   "outputs": [
    {
     "data": {
      "text/plain": [
       "dtype('int64')"
      ]
     },
     "execution_count": 25,
     "metadata": {},
     "output_type": "execute_result"
    }
   ],
   "source": [
    "matriz_5x2.dtype"
   ]
  },
  {
   "cell_type": "code",
   "execution_count": null,
   "id": "dcb2ff00",
   "metadata": {},
   "outputs": [],
   "source": []
  },
  {
   "cell_type": "code",
   "execution_count": null,
   "id": "6ae5b8ab",
   "metadata": {},
   "outputs": [],
   "source": []
  },
  {
   "cell_type": "markdown",
   "id": "f65930e0",
   "metadata": {},
   "source": [
    "### Ejercicio 5:\n",
    "- Crea una matriz de ceros de dimensión (4, 4) y remplaza los elementos de la diagonal principal por los números 5."
   ]
  },
  {
   "cell_type": "code",
   "execution_count": 26,
   "id": "b68dd617",
   "metadata": {},
   "outputs": [
    {
     "name": "stdout",
     "output_type": "stream",
     "text": [
      "[[5. 0. 0. 0.]\n",
      " [0. 5. 0. 0.]\n",
      " [0. 0. 5. 0.]\n",
      " [0. 0. 0. 5.]]\n"
     ]
    }
   ],
   "source": [
    "# Crear una matriz de ceros de dimensión (4, 4)\n",
    "matriz = np.zeros((4, 4))\n",
    "\n",
    "# Reemplazar los elementos de la diagonal principal por el número 5\n",
    "np.fill_diagonal(matriz, 5)\n",
    "\n",
    "print(matriz)\n"
   ]
  },
  {
   "cell_type": "code",
   "execution_count": null,
   "id": "734d9f67",
   "metadata": {},
   "outputs": [],
   "source": []
  },
  {
   "cell_type": "code",
   "execution_count": null,
   "id": "96d7b73d",
   "metadata": {},
   "outputs": [],
   "source": []
  },
  {
   "cell_type": "markdown",
   "id": "ff424246",
   "metadata": {},
   "source": [
    "### Ejercicio 6:\n",
    "- Utiliza la función _**np.linspace()**_ para crear un vector con 10 elementos entre los números: -5 y 5."
   ]
  },
  {
   "cell_type": "code",
   "execution_count": 27,
   "id": "84675849",
   "metadata": {},
   "outputs": [
    {
     "name": "stdout",
     "output_type": "stream",
     "text": [
      "[-5.         -3.88888889 -2.77777778 -1.66666667 -0.55555556  0.55555556\n",
      "  1.66666667  2.77777778  3.88888889  5.        ]\n"
     ]
    }
   ],
   "source": [
    "# Crear un vector con 10 elementos entre -5 y 5\n",
    "vector = np.linspace(-5, 5, 10)\n",
    "\n",
    "print(vector)\n"
   ]
  },
  {
   "cell_type": "code",
   "execution_count": null,
   "id": "53aedee4",
   "metadata": {},
   "outputs": [],
   "source": []
  },
  {
   "cell_type": "code",
   "execution_count": null,
   "id": "d39256a3",
   "metadata": {},
   "outputs": [],
   "source": []
  },
  {
   "cell_type": "markdown",
   "id": "d4d2232c",
   "metadata": {},
   "source": [
    "### Ejercicio 7:\n",
    "- Crea una matriz vacía de tamaño (3, 6) con elementos del tipo flotante."
   ]
  },
  {
   "cell_type": "code",
   "execution_count": 28,
   "id": "15f8820b",
   "metadata": {},
   "outputs": [
    {
     "name": "stdout",
     "output_type": "stream",
     "text": [
      "[[1.03327168e-311 2.09338971e-314 0.00000000e+000 0.00000000e+000\n",
      "  8.34441742e-308 1.16096346e-028]\n",
      " [9.82205649e+252 1.11789342e+253 4.29436185e-086 6.98684252e-077\n",
      "  3.28879940e-086 6.98684252e-077]\n",
      " [3.28879940e-086 6.98687546e-077 3.28879940e-086 8.44657431e-053\n",
      "  2.59305626e-306 1.25160405e-308]]\n"
     ]
    }
   ],
   "source": [
    "# Crear una matriz vacía de tamaño (3, 6) con elementos de tipo flotante\n",
    "matriz_vacia = np.empty((3, 6), dtype=float)\n",
    "\n",
    "print(matriz_vacia)\n",
    "# Al no estatar inicializada, los valores son aleatorios, no son ceros, ni unos, ni nada en particular.\n"
   ]
  },
  {
   "cell_type": "code",
   "execution_count": null,
   "id": "79c50a7d",
   "metadata": {},
   "outputs": [],
   "source": []
  },
  {
   "cell_type": "code",
   "execution_count": null,
   "id": "531685ae",
   "metadata": {},
   "outputs": [],
   "source": []
  },
  {
   "cell_type": "markdown",
   "id": "1239053e",
   "metadata": {},
   "source": [
    "### Ejercicio 8:\n",
    "- Utiliza la matriz anterior para llenarla con números primos (investiga en internet una función que genere números primos e implementala)."
   ]
  },
  {
   "cell_type": "code",
   "execution_count": 29,
   "id": "cfb83730",
   "metadata": {},
   "outputs": [],
   "source": [
    "def es_primo(n):\n",
    "    if n <= 1:\n",
    "        return False\n",
    "    for i in range(2, int(n**0.5) + 1):\n",
    "        if n % i == 0:\n",
    "            return False\n",
    "    return True\n",
    "\n",
    "def generar_primos(limite):\n",
    "    primos = []\n",
    "    num = 2\n",
    "    while len(primos) < limite:\n",
    "        if es_primo(num):\n",
    "            primos.append(num)\n",
    "        num += 1\n",
    "    return primos"
   ]
  },
  {
   "cell_type": "code",
   "execution_count": 30,
   "id": "0b816486",
   "metadata": {},
   "outputs": [
    {
     "name": "stdout",
     "output_type": "stream",
     "text": [
      "[[ 2  3  5  7 11 13]\n",
      " [17 19 23 29 31 37]\n",
      " [41 43 47 53 59 61]]\n"
     ]
    }
   ],
   "source": [
    "# Generar una lista de 18 números primos\n",
    "primos = generar_primos(18)\n",
    "\n",
    "# Llenar la matriz vacía con los números primos\n",
    "matriz_vacia = np.array(primos).reshape((3, 6))\n",
    "\n",
    "print(matriz_vacia)\n"
   ]
  },
  {
   "cell_type": "code",
   "execution_count": null,
   "id": "038eb273",
   "metadata": {},
   "outputs": [],
   "source": []
  },
  {
   "cell_type": "markdown",
   "id": "a92d1972",
   "metadata": {},
   "source": [
    "### Ejercicio 9:\n",
    "- Reemplaza los números de color azul por un 99 utilizando slicing.\n",
    "\n",
    "$$\\Large\n",
    "\\begin{bmatrix}\n",
    " 1 &  2 &  \\color{Blue}{3} &  4 \\\\\n",
    " 5 &  \\color{Blue}{6} &  7 &  \\color{Blue}{8} \\\\\n",
    " \\color{Blue}{9} & 10 & 11 & 12 \\\\\n",
    "13 & 14 & \\color{Blue}{15} & 16\n",
    "\\end{bmatrix}\n",
    "$$"
   ]
  },
  {
   "cell_type": "code",
   "execution_count": 31,
   "id": "ed329abf",
   "metadata": {},
   "outputs": [
    {
     "name": "stdout",
     "output_type": "stream",
     "text": [
      "[[ 1  2 99  4]\n",
      " [ 5 99  7 99]\n",
      " [99 10 11 12]\n",
      " [13 14 99 16]]\n"
     ]
    }
   ],
   "source": [
    "# Definir la matriz inicial\n",
    "matriz = np.array([\n",
    "    [ 1,  2,  3,  4],\n",
    "    [ 5,  6,  7,  8],\n",
    "    [ 9, 10, 11, 12],\n",
    "    [13, 14, 15, 16]\n",
    "])\n",
    "\n",
    "# Reemplazar los números en la posición especificada por 99\n",
    "matriz[0, 2] = 99\n",
    "matriz[1, 1] = 99\n",
    "matriz[1, 3] = 99\n",
    "matriz[2, 0] = 99\n",
    "matriz[3, 2] = 99\n",
    "\n",
    "print(matriz)\n"
   ]
  },
  {
   "cell_type": "code",
   "execution_count": null,
   "id": "c05f196c",
   "metadata": {},
   "outputs": [],
   "source": []
  },
  {
   "cell_type": "code",
   "execution_count": null,
   "id": "d148695c",
   "metadata": {},
   "outputs": [],
   "source": []
  },
  {
   "cell_type": "markdown",
   "id": "817ee31c",
   "metadata": {},
   "source": [
    "### Ejercicio 10:\n",
    "- Obten la primera y tercera fila de la matriz."
   ]
  },
  {
   "cell_type": "code",
   "execution_count": 32,
   "id": "0a1496e8",
   "metadata": {},
   "outputs": [
    {
     "name": "stdout",
     "output_type": "stream",
     "text": [
      "Primera fila: [ 1  2 99  4]\n",
      "Tercera fila: [99 10 11 12]\n"
     ]
    }
   ],
   "source": [
    "# Obtener la primera y tercera fila de la matriz\n",
    "primera_fila = matriz[0, :]\n",
    "tercera_fila = matriz[2, :]\n",
    "\n",
    "print(\"Primera fila:\", primera_fila)\n",
    "print(\"Tercera fila:\", tercera_fila)\n"
   ]
  },
  {
   "cell_type": "code",
   "execution_count": null,
   "id": "6aee8f31",
   "metadata": {},
   "outputs": [],
   "source": []
  },
  {
   "cell_type": "code",
   "execution_count": null,
   "id": "c3761ae2",
   "metadata": {},
   "outputs": [],
   "source": []
  },
  {
   "cell_type": "markdown",
   "id": "a4abb3c0",
   "metadata": {},
   "source": [
    "### Ejercico 11:\n",
    "- Obten la tercera columna de la matriz."
   ]
  },
  {
   "cell_type": "code",
   "execution_count": 33,
   "id": "047311f5",
   "metadata": {},
   "outputs": [
    {
     "name": "stdout",
     "output_type": "stream",
     "text": [
      "Tercera columna: [99  7 11 99]\n"
     ]
    }
   ],
   "source": [
    "# Obtener la tercera columna de la matriz\n",
    "tercera_columna = matriz[:, 2]\n",
    "\n",
    "print(\"Tercera columna:\", tercera_columna)\n"
   ]
  },
  {
   "cell_type": "code",
   "execution_count": null,
   "id": "b1368522",
   "metadata": {},
   "outputs": [],
   "source": []
  },
  {
   "cell_type": "code",
   "execution_count": null,
   "id": "19aa1a30",
   "metadata": {},
   "outputs": [],
   "source": []
  },
  {
   "cell_type": "markdown",
   "id": "85659833",
   "metadata": {},
   "source": [
    "### Ejercicio 12:\n",
    "- Obtener la segunda y tercera columna de la matriz."
   ]
  },
  {
   "cell_type": "code",
   "execution_count": 34,
   "id": "f9f72826",
   "metadata": {},
   "outputs": [
    {
     "name": "stdout",
     "output_type": "stream",
     "text": [
      "Segunda y tercera columna:\n",
      " [[ 2 99]\n",
      " [99  7]\n",
      " [10 11]\n",
      " [14 99]]\n"
     ]
    }
   ],
   "source": [
    "# Obtener la segunda y tercera columna de la matriz\n",
    "segunda_y_tercera_columna = matriz[:, 1:3]\n",
    "\n",
    "print(\"Segunda y tercera columna:\\n\", segunda_y_tercera_columna)\n"
   ]
  },
  {
   "cell_type": "code",
   "execution_count": null,
   "id": "72247f04",
   "metadata": {},
   "outputs": [],
   "source": []
  },
  {
   "cell_type": "code",
   "execution_count": null,
   "id": "3de230f8",
   "metadata": {},
   "outputs": [],
   "source": []
  },
  {
   "cell_type": "markdown",
   "id": "3a118c9a",
   "metadata": {},
   "source": [
    "### Ejercicio 13:\n",
    "- Obten una submatriz con los 4 números del centro."
   ]
  },
  {
   "cell_type": "code",
   "execution_count": 35,
   "id": "6efd36bc",
   "metadata": {},
   "outputs": [
    {
     "name": "stdout",
     "output_type": "stream",
     "text": [
      "Submatriz con los 4 números del centro:\n",
      " [[99  7]\n",
      " [10 11]]\n"
     ]
    }
   ],
   "source": [
    "# Obtener una submatriz con los 4 números del centro\n",
    "submatriz_centro = matriz[1:3, 1:3]\n",
    "\n",
    "print(\"Submatriz con los 4 números del centro:\\n\", submatriz_centro)\n"
   ]
  },
  {
   "cell_type": "code",
   "execution_count": null,
   "id": "15b53998",
   "metadata": {},
   "outputs": [],
   "source": []
  },
  {
   "cell_type": "code",
   "execution_count": null,
   "id": "197192ee",
   "metadata": {},
   "outputs": [],
   "source": []
  },
  {
   "cell_type": "markdown",
   "id": "270239a7",
   "metadata": {},
   "source": [
    "### Ejercicio 14:\n",
    "- Aplica la función _**np.flatten()**_ a la matriz anterior para obtener un vector."
   ]
  },
  {
   "cell_type": "code",
   "execution_count": 36,
   "id": "f9d01c3b",
   "metadata": {},
   "outputs": [
    {
     "name": "stdout",
     "output_type": "stream",
     "text": [
      "Vector resultante: [99  7 10 11]\n"
     ]
    }
   ],
   "source": [
    "# Aplicar np.flatten() a la submatriz central para obtener un vector\n",
    "vector = submatriz_centro.flatten()\n",
    "\n",
    "print(\"Vector resultante:\", vector)\n"
   ]
  },
  {
   "cell_type": "code",
   "execution_count": null,
   "id": "7e33d442",
   "metadata": {},
   "outputs": [],
   "source": []
  },
  {
   "cell_type": "code",
   "execution_count": null,
   "id": "c459d98f",
   "metadata": {},
   "outputs": [],
   "source": []
  },
  {
   "cell_type": "markdown",
   "id": "aa26d703",
   "metadata": {},
   "source": [
    "### Ejercicio 15:\n",
    "- Aplica el método _**.reshape()**_ al vector anterior para obtener una matriz de (1, 4) dimensiones."
   ]
  },
  {
   "cell_type": "code",
   "execution_count": 37,
   "id": "8e045ee7",
   "metadata": {},
   "outputs": [
    {
     "name": "stdout",
     "output_type": "stream",
     "text": [
      "Matriz de dimensiones (1, 4):\n",
      " [[99  7 10 11]]\n"
     ]
    }
   ],
   "source": [
    "# Aplicar el método .reshape() al vector para obtener una matriz de (1, 4)\n",
    "matriz_reshape = vector.reshape((1, 4))\n",
    "\n",
    "print(\"Matriz de dimensiones (1, 4):\\n\", matriz_reshape)\n"
   ]
  },
  {
   "cell_type": "code",
   "execution_count": null,
   "id": "78df5ad8",
   "metadata": {},
   "outputs": [],
   "source": []
  },
  {
   "cell_type": "code",
   "execution_count": null,
   "id": "0529314d",
   "metadata": {},
   "outputs": [],
   "source": []
  },
  {
   "cell_type": "markdown",
   "id": "f61d6d34",
   "metadata": {},
   "source": [
    "### Ejercicio 16:\n",
    "- Crea dos matrices de dimensión (4, 4) con números aleatorios y concatenalas verticalmente."
   ]
  },
  {
   "cell_type": "code",
   "execution_count": 38,
   "id": "1dd66c12",
   "metadata": {},
   "outputs": [
    {
     "name": "stdout",
     "output_type": "stream",
     "text": [
      "Matriz 1:\n",
      " [[0.99502646 0.08866958 0.129192   0.76969955]\n",
      " [0.3927118  0.9380602  0.49212741 0.01674212]\n",
      " [0.18865287 0.10650376 0.14004122 0.63820539]\n",
      " [0.35509857 0.00604995 0.0889486  0.92736392]]\n",
      "\n",
      "Matriz 2:\n",
      " [[0.79262728 0.04692098 0.87412982 0.25119025]\n",
      " [0.36285551 0.1700525  0.45571942 0.39959862]\n",
      " [0.6982981  0.69107084 0.09745566 0.28233596]\n",
      " [0.5322408  0.7362217  0.72615751 0.52593311]]\n",
      "\n",
      "Matriz concatenada verticalmente:\n",
      " [[0.99502646 0.08866958 0.129192   0.76969955]\n",
      " [0.3927118  0.9380602  0.49212741 0.01674212]\n",
      " [0.18865287 0.10650376 0.14004122 0.63820539]\n",
      " [0.35509857 0.00604995 0.0889486  0.92736392]\n",
      " [0.79262728 0.04692098 0.87412982 0.25119025]\n",
      " [0.36285551 0.1700525  0.45571942 0.39959862]\n",
      " [0.6982981  0.69107084 0.09745566 0.28233596]\n",
      " [0.5322408  0.7362217  0.72615751 0.52593311]]\n"
     ]
    }
   ],
   "source": [
    "# Crear dos matrices de dimensión (4, 4) con números aleatorios\n",
    "matriz1 = np.random.rand(4, 4)\n",
    "matriz2 = np.random.rand(4, 4)\n",
    "\n",
    "# Concatenar las matrices verticalmente\n",
    "matriz_concatenada = np.vstack((matriz1, matriz2))\n",
    "\n",
    "print(\"Matriz 1:\\n\", matriz1)\n",
    "print(\"\\nMatriz 2:\\n\", matriz2)\n",
    "print(\"\\nMatriz concatenada verticalmente:\\n\", matriz_concatenada)\n"
   ]
  },
  {
   "cell_type": "code",
   "execution_count": null,
   "id": "4ca5da60",
   "metadata": {},
   "outputs": [],
   "source": []
  },
  {
   "cell_type": "code",
   "execution_count": null,
   "id": "6d5150b4",
   "metadata": {},
   "outputs": [],
   "source": []
  },
  {
   "cell_type": "code",
   "execution_count": 39,
   "id": "46d3968e-3ca3-4976-a7dd-14bc3279a9cc",
   "metadata": {},
   "outputs": [],
   "source": [
    "################################################################################################################################"
   ]
  }
 ],
 "metadata": {
  "kernelspec": {
   "display_name": "Python 3",
   "language": "python",
   "name": "python3"
  },
  "language_info": {
   "codemirror_mode": {
    "name": "ipython",
    "version": 3
   },
   "file_extension": ".py",
   "mimetype": "text/x-python",
   "name": "python",
   "nbconvert_exporter": "python",
   "pygments_lexer": "ipython3",
   "version": "3.13.1"
  }
 },
 "nbformat": 4,
 "nbformat_minor": 5
}
