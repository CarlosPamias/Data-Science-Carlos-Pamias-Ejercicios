{
 "cells": [
  {
   "cell_type": "markdown",
   "id": "b87f144d",
   "metadata": {},
   "source": [
    "## Ejercicios - NumPy 2"
   ]
  },
  {
   "cell_type": "code",
   "execution_count": 1,
   "id": "b9d785ce",
   "metadata": {},
   "outputs": [],
   "source": [
    "import numpy as np\n",
    "import matplotlib # Para ver la versión\n",
    "import matplotlib.pyplot as plt\n",
    "from datetime import datetime, timedelta"
   ]
  },
  {
   "cell_type": "code",
   "execution_count": 2,
   "id": "968b278f-7bc6-4509-aecd-fcf99ebc90d6",
   "metadata": {
    "tags": []
   },
   "outputs": [
    {
     "name": "stdout",
     "output_type": "stream",
     "text": [
      "numpy==2.2.0\n",
      "matplotlib==3.10.0\n"
     ]
    }
   ],
   "source": [
    "# Versiones\n",
    "\n",
    "print(f\"numpy=={np.__version__}\")\n",
    "print(f\"matplotlib=={matplotlib.__version__}\")"
   ]
  },
  {
   "cell_type": "markdown",
   "id": "dc18e199",
   "metadata": {},
   "source": [
    "### Ejercicio 1:\n",
    "- Obten un vector con 12 elementos aleatorios, los primeros 6 elementos deben de ser negativos y los siguientes 6 elementos positivos."
   ]
  },
  {
   "cell_type": "code",
   "execution_count": 3,
   "id": "6aabb11a",
   "metadata": {},
   "outputs": [
    {
     "name": "stdout",
     "output_type": "stream",
     "text": [
      "Vector resultante: [-0.2572698  -0.95354462 -0.64435886 -0.49808165 -0.52506162 -0.09477171\n",
      "  0.47785754  0.48340498  0.6572234   0.06248234  0.46910408  0.0330747 ]\n"
     ]
    }
   ],
   "source": [
    "# Generar 6 números aleatorios negativos\n",
    "negativos = -np.random.rand(6)\n",
    "\n",
    "# Generar 6 números aleatorios positivos\n",
    "positivos = np.random.rand(6)\n",
    "\n",
    "# Concatenar los vectores\n",
    "vector = np.concatenate((negativos, positivos))\n",
    "\n",
    "print(\"Vector resultante:\", vector)\n"
   ]
  },
  {
   "cell_type": "code",
   "execution_count": null,
   "id": "f7c1bfb3",
   "metadata": {},
   "outputs": [],
   "source": []
  },
  {
   "cell_type": "code",
   "execution_count": null,
   "id": "fa4259d7",
   "metadata": {},
   "outputs": [],
   "source": []
  },
  {
   "cell_type": "markdown",
   "id": "e693107b",
   "metadata": {},
   "source": [
    "### Ejercicio 2:\n",
    "- Obten una matriz con dimensiones igual a (3, 5) con valores flotantes entre 0 y 1 para cada elemento."
   ]
  },
  {
   "cell_type": "code",
   "execution_count": 4,
   "id": "8301606f",
   "metadata": {},
   "outputs": [
    {
     "name": "stdout",
     "output_type": "stream",
     "text": [
      "Matriz aleatoria:\n",
      " [[0.22454398 0.35326654 0.53897582 0.0871258  0.82093804]\n",
      " [0.9923992  0.01471863 0.23475623 0.17436358 0.5279506 ]\n",
      " [0.20739608 0.68015238 0.02581459 0.05593195 0.08017659]]\n"
     ]
    }
   ],
   "source": [
    "# Crear una matriz de dimensiones (3, 5) con valores flotantes aleatorios entre 0 y 1\n",
    "matriz_aleatoria = np.random.rand(3, 5)\n",
    "\n",
    "print(\"Matriz aleatoria:\\n\", matriz_aleatoria)\n"
   ]
  },
  {
   "cell_type": "code",
   "execution_count": null,
   "id": "ba8da516",
   "metadata": {},
   "outputs": [],
   "source": []
  },
  {
   "cell_type": "code",
   "execution_count": null,
   "id": "e46e57df",
   "metadata": {},
   "outputs": [],
   "source": []
  },
  {
   "cell_type": "markdown",
   "id": "08fdb77d",
   "metadata": {},
   "source": [
    "### Ejercicio 3:\n",
    "- Obten una matriz con dimensiones igual a (4, 4), cada elemento de la matriz debe de ser un número aleatorio entre 1 y 5."
   ]
  },
  {
   "cell_type": "code",
   "execution_count": 5,
   "id": "8bc989b8",
   "metadata": {},
   "outputs": [
    {
     "name": "stdout",
     "output_type": "stream",
     "text": [
      "Matriz aleatoria:\n",
      " [[4 5 5 1]\n",
      " [5 2 4 1]\n",
      " [5 3 4 2]\n",
      " [5 4 4 4]]\n"
     ]
    }
   ],
   "source": [
    "# Crear una matriz de dimensiones (4, 4) con números aleatorios enteros entre 1 y 5\n",
    "matriz_aleatoria = np.random.randint(1, 6, size=(4, 4))\n",
    "\n",
    "print(\"Matriz aleatoria:\\n\", matriz_aleatoria)\n"
   ]
  },
  {
   "cell_type": "code",
   "execution_count": null,
   "id": "b46ba150",
   "metadata": {},
   "outputs": [],
   "source": []
  },
  {
   "cell_type": "code",
   "execution_count": null,
   "id": "71e67d3f",
   "metadata": {},
   "outputs": [],
   "source": []
  },
  {
   "cell_type": "markdown",
   "id": "34a1a228",
   "metadata": {},
   "source": [
    "### Ejercicio 4:\n",
    "- Obten una matriz de dimensiones (7, 7) de ceros y si la suma de sus indices es par convierte el valor en 1."
   ]
  },
  {
   "cell_type": "code",
   "execution_count": 6,
   "id": "bcb07165",
   "metadata": {},
   "outputs": [
    {
     "name": "stdout",
     "output_type": "stream",
     "text": [
      "Matriz resultante:\n",
      " [[1 0 1 0 1 0 1]\n",
      " [0 1 0 1 0 1 0]\n",
      " [1 0 1 0 1 0 1]\n",
      " [0 1 0 1 0 1 0]\n",
      " [1 0 1 0 1 0 1]\n",
      " [0 1 0 1 0 1 0]\n",
      " [1 0 1 0 1 0 1]]\n"
     ]
    }
   ],
   "source": [
    "# Crear una matriz de ceros de dimensiones (7, 7)\n",
    "matriz = np.zeros((7, 7), dtype=int)\n",
    "\n",
    "# Convertir el valor en 1 si la suma de sus índices es par\n",
    "for i in range(matriz.shape[0]):\n",
    "    for j in range(matriz.shape[1]):\n",
    "        if (i + j) % 2 == 0:\n",
    "            matriz[i, j] = 1\n",
    "\n",
    "print(\"Matriz resultante:\\n\", matriz)\n"
   ]
  },
  {
   "cell_type": "code",
   "execution_count": null,
   "id": "d8968068",
   "metadata": {},
   "outputs": [],
   "source": []
  },
  {
   "cell_type": "code",
   "execution_count": null,
   "id": "a8efa66b",
   "metadata": {},
   "outputs": [],
   "source": []
  },
  {
   "cell_type": "code",
   "execution_count": 7,
   "id": "1394367d",
   "metadata": {},
   "outputs": [
    {
     "data": {
      "image/png": "[encoded data removed]",
      "text/plain": [
       "<Figure size 500x500 with 1 Axes>"
      ]
     },
     "metadata": {},
     "output_type": "display_data"
    }
   ],
   "source": [
    "# Después de crear la matriz anterior (matriz) ejecuta esta celda para observar a través de una imagen el resultado.\n",
    "\n",
    "plt.figure(figsize = (5, 5)) \n",
    "plt.imshow(matriz, cmap = \"gray\")\n",
    "plt.show()"
   ]
  },
  {
   "cell_type": "markdown",
   "id": "f713ac5b",
   "metadata": {},
   "source": [
    "### Ejercicio 5:\n",
    "- Obten la siguiente matriz usando **NumPy**:\n",
    "\n",
    "$$\n",
    "\\begin{bmatrix}\n",
    "1 & 1 & 1 & 1 & 1 & 1 \\\\\n",
    "1 & 0 & 0 & 0 & 0 & 1 \\\\\n",
    "1 & 0 & 0 & 0 & 0 & 1 \\\\\n",
    "1 & 0 & 0 & 0 & 0 & 1 \\\\\n",
    "1 & 0 & 0 & 0 & 0 & 1 \\\\\n",
    "1 & 1 & 1 & 1 & 1 & 1 \n",
    "\\end{bmatrix}\n",
    "$$"
   ]
  },
  {
   "cell_type": "code",
   "execution_count": 8,
   "id": "2515ea0a",
   "metadata": {},
   "outputs": [
    {
     "name": "stdout",
     "output_type": "stream",
     "text": [
      "[[1 1 1 1 1 1]\n",
      " [1 0 0 0 0 1]\n",
      " [1 0 0 0 0 1]\n",
      " [1 0 0 0 0 1]\n",
      " [1 0 0 0 0 1]\n",
      " [1 1 1 1 1 1]]\n"
     ]
    }
   ],
   "source": [
    "# Crear una matriz de unos de dimensiones (6, 6)\n",
    "matriz = np.ones((6, 6), dtype=int)\n",
    "\n",
    "# Rellenar el interior de la matriz con ceros\n",
    "matriz[1:-1, 1:-1] = 0\n",
    "\n",
    "print(matriz)\n"
   ]
  },
  {
   "cell_type": "code",
   "execution_count": null,
   "id": "78665e6c",
   "metadata": {},
   "outputs": [],
   "source": []
  },
  {
   "cell_type": "code",
   "execution_count": null,
   "id": "a6870fd8",
   "metadata": {},
   "outputs": [],
   "source": []
  },
  {
   "cell_type": "code",
   "execution_count": null,
   "id": "a7c5842e",
   "metadata": {},
   "outputs": [],
   "source": []
  },
  {
   "cell_type": "markdown",
   "id": "016f0c96",
   "metadata": {},
   "source": [
    "### Ejercicio 6:\n",
    "- Obten la siguiente matriz usando **NumPy**:\n",
    "\n",
    "$$\n",
    "\\begin{bmatrix}\n",
    "0 & 0 & 0 & 0 & 0 & 0 & 0 & 0 & 0 & 0 \\\\\n",
    "0 & 1 & 1 & 1 & 1 & 1 & 1 & 1 & 1 & 0 \\\\\n",
    "0 & 1 & 0 & 0 & 0 & 0 & 0 & 0 & 1 & 0 \\\\\n",
    "0 & 1 & 0 & 1 & 1 & 1 & 1 & 0 & 1 & 0 \\\\\n",
    "0 & 1 & 0 & 1 & 0 & 0 & 1 & 0 & 1 & 0 \\\\\n",
    "0 & 1 & 0 & 1 & 0 & 0 & 1 & 0 & 1 & 0 \\\\\n",
    "0 & 1 & 0 & 1 & 1 & 1 & 1 & 0 & 1 & 0 \\\\\n",
    "0 & 1 & 0 & 0 & 0 & 0 & 0 & 0 & 1 & 0 \\\\\n",
    "0 & 1 & 1 & 1 & 1 & 1 & 1 & 1 & 1 & 0 \\\\\n",
    "0 & 0 & 0 & 0 & 0 & 0 & 0 & 0 & 0 & 0 \n",
    "\\end{bmatrix}\n",
    "$$"
   ]
  },
  {
   "cell_type": "code",
   "execution_count": 9,
   "id": "2a193f15",
   "metadata": {},
   "outputs": [
    {
     "name": "stdout",
     "output_type": "stream",
     "text": [
      "Matriz resultante:\n",
      " [[0 0 0 0 0 0 0 0 0 0]\n",
      " [0 1 1 1 1 1 1 1 1 0]\n",
      " [0 1 0 0 0 0 0 0 1 0]\n",
      " [0 1 0 1 1 1 1 0 1 0]\n",
      " [0 1 0 1 0 0 1 0 1 0]\n",
      " [0 1 0 1 0 0 1 0 1 0]\n",
      " [0 1 0 1 1 1 1 0 1 0]\n",
      " [0 1 0 0 0 0 0 0 1 0]\n",
      " [0 1 1 1 1 1 1 1 1 0]\n",
      " [0 0 0 0 0 0 0 0 0 0]]\n"
     ]
    }
   ],
   "source": [
    "# Crear una matriz de ceros de dimensiones (10, 10)\n",
    "matriz = np.zeros((10, 10), dtype=int)\n",
    "\n",
    "# Definir los valores de la matriz según el patrón dado\n",
    "matriz[1, 1:9] = 1\n",
    "matriz[2, [1, 8]] = 1\n",
    "matriz[3, [1, 3, 4, 5, 6, 8]] = 1\n",
    "matriz[4, [1, 3, 6, 8]] = 1\n",
    "matriz[5, [1, 3, 6, 8]] = 1\n",
    "matriz[6, [1, 3, 4, 5, 6, 8]] = 1\n",
    "matriz[7, [1, 8]] = 1\n",
    "matriz[8, 1:9] = 1\n",
    "\n",
    "print(\"Matriz resultante:\\n\", matriz)\n"
   ]
  },
  {
   "cell_type": "code",
   "execution_count": null,
   "id": "8f2ec8d0",
   "metadata": {},
   "outputs": [],
   "source": []
  },
  {
   "cell_type": "code",
   "execution_count": 10,
   "id": "bf058ffc",
   "metadata": {},
   "outputs": [
    {
     "data": {
      "image/png": "[encoded data removed]",
      "text/plain": [
       "<Figure size 500x500 with 1 Axes>"
      ]
     },
     "metadata": {},
     "output_type": "display_data"
    }
   ],
   "source": [
    "plt.figure(figsize = (5, 5)) \n",
    "plt.imshow(matriz, cmap = \"gray\")\n",
    "plt.show()"
   ]
  },
  {
   "cell_type": "markdown",
   "id": "cc4cd602",
   "metadata": {},
   "source": [
    "### Ejercicio 7:\n",
    "- Obten una matriz con dimensiones igual a (4, 7), el primer elemento de la matriz debe de ser el día de hoy y para los siguientes elementos los próximos días."
   ]
  },
  {
   "cell_type": "code",
   "execution_count": 11,
   "id": "9eecb8ff",
   "metadata": {},
   "outputs": [
    {
     "name": "stdout",
     "output_type": "stream",
     "text": [
      "[['2024-12-25' '2024-12-26' '2024-12-27' '2024-12-28' '2024-12-29'\n",
      "  '2024-12-30' '2024-12-31']\n",
      " ['2025-01-01' '2025-01-02' '2025-01-03' '2025-01-04' '2025-01-05'\n",
      "  '2025-01-06' '2025-01-07']\n",
      " ['2025-01-08' '2025-01-09' '2025-01-10' '2025-01-11' '2025-01-12'\n",
      "  '2025-01-13' '2025-01-14']\n",
      " ['2025-01-15' '2025-01-16' '2025-01-17' '2025-01-18' '2025-01-19'\n",
      "  '2025-01-20' '2025-01-21']]\n"
     ]
    }
   ],
   "source": [
    "hoy = datetime.now()\n",
    "\n",
    "# Crear una matriz de ceros de dimensiones (4, 7)\n",
    "matriz = np.zeros((4, 7), dtype='datetime64[D]')\n",
    "\n",
    "# Llenar la matriz con fechas comenzando desde hoy\n",
    "for i in range(matriz.shape[0]):\n",
    "    for j in range(matriz.shape[1]):\n",
    "        matriz[i, j] = hoy + timedelta(days=i*7 + j)\n",
    "\n",
    "print(matriz)\n"
   ]
  },
  {
   "cell_type": "code",
   "execution_count": null,
   "id": "683192b0",
   "metadata": {},
   "outputs": [],
   "source": []
  },
  {
   "cell_type": "code",
   "execution_count": null,
   "id": "3b5faba9",
   "metadata": {},
   "outputs": [],
   "source": []
  },
  {
   "cell_type": "markdown",
   "id": "57672473",
   "metadata": {},
   "source": [
    "### Ejercicio 8:\n",
    "- Repite el ejercicio anterior pero el día de hoy debe de iniciar en la celda [0][4] y para los siguientes elementos los próximos días. Respecto a los elementos [0][0:4], agrega los días anteriores al día de hoy."
   ]
  },
  {
   "cell_type": "code",
   "execution_count": 12,
   "id": "2a8e5056",
   "metadata": {},
   "outputs": [
    {
     "name": "stdout",
     "output_type": "stream",
     "text": [
      "[['2024-12-21' '2024-12-22' '2024-12-23' '2024-12-24' '2024-12-25'\n",
      "  '2024-12-26' '2024-12-27']\n",
      " ['2024-12-28' '2024-12-29' '2024-12-30' '2024-12-31' '2025-01-01'\n",
      "  '2025-01-02' '2025-01-03']\n",
      " ['2025-01-04' '2025-01-05' '2025-01-06' '2025-01-07' '2025-01-08'\n",
      "  '2025-01-09' '2025-01-10']\n",
      " ['2025-01-11' '2025-01-12' '2025-01-13' '2025-01-14' '2025-01-15'\n",
      "  '2025-01-16' '2025-01-17']]\n"
     ]
    }
   ],
   "source": [
    "# Crear una matriz de ceros de dimensiones (4, 7)\n",
    "matriz = np.zeros((4, 7), dtype='datetime64[D]')\n",
    "\n",
    "# Llenar la matriz con fechas empezando desde hoy en [0, 4]\n",
    "for i in range(matriz.shape[0]):\n",
    "    for j in range(matriz.shape[1]):\n",
    "        # Calcular la posición en la matriz\n",
    "        index = i * 7 + j - 4\n",
    "        # Asignar la fecha correspondiente\n",
    "        matriz[i, j] = hoy + timedelta(days=index)\n",
    "\n",
    "print(matriz)\n"
   ]
  },
  {
   "cell_type": "code",
   "execution_count": null,
   "id": "fa782469",
   "metadata": {},
   "outputs": [],
   "source": []
  },
  {
   "cell_type": "code",
   "execution_count": null,
   "id": "83252081",
   "metadata": {},
   "outputs": [],
   "source": []
  },
  {
   "cell_type": "markdown",
   "id": "43e06b36",
   "metadata": {},
   "source": [
    "### Ejercicio 9:\n",
    "- Obten el calendario de julio como se muestra en la imagen:\n",
    "\n",
    "$$\n",
    "\\begin{bmatrix}\n",
    "28 & 29 & 30 & 1 & 2 & 3 & 4 \\\\\n",
    "5 & 6 & 7 & 8 & 9 & 10 & 11 \\\\\n",
    "12 & 13 & 14 & 15 & 16 & 17 & 18 \\\\\n",
    "19 & 20 & 21 & 22 & 23 & 24 & 25 \\\\\n",
    "26 & 27 & 28 & 29 & 30 & 31 & 1 \\\\\n",
    "2 & 3 & 4 & 5 & 6 & 7 & 8\n",
    "\\end{bmatrix}\n",
    "$$"
   ]
  },
  {
   "cell_type": "code",
   "execution_count": 13,
   "id": "cbade4cb",
   "metadata": {},
   "outputs": [
    {
     "name": "stdout",
     "output_type": "stream",
     "text": [
      "Calendario de julio:\n",
      " [[28 29 30  1  2  3  4]\n",
      " [ 5  6  7  8  9 10 11]\n",
      " [12 13 14 15 16 17 18]\n",
      " [19 20 21 22 23 24 25]\n",
      " [26 27 28 29 30 31  1]\n",
      " [ 2  3  4  5  6  7  8]]\n"
     ]
    }
   ],
   "source": [
    "# Crear una matriz de ceros de dimensiones (6, 7)\n",
    "calendario = np.zeros((6, 7), dtype=int)\n",
    "\n",
    "# Definir los días del calendario de julio\n",
    "dias = [\n",
    "    [28, 29, 30, 1, 2, 3, 4],\n",
    "    [5, 6, 7, 8, 9, 10, 11],\n",
    "    [12, 13, 14, 15, 16, 17, 18],\n",
    "    [19, 20, 21, 22, 23, 24, 25],\n",
    "    [26, 27, 28, 29, 30, 31, 1],\n",
    "    [2, 3, 4, 5, 6, 7, 8]\n",
    "]\n",
    "\n",
    "# Asignar los días a la matriz\n",
    "calendario[:] = dias\n",
    "\n",
    "print(\"Calendario de julio:\\n\", calendario)\n"
   ]
  },
  {
   "cell_type": "code",
   "execution_count": null,
   "id": "1dd52f12",
   "metadata": {},
   "outputs": [],
   "source": []
  },
  {
   "cell_type": "code",
   "execution_count": null,
   "id": "330c4e0b",
   "metadata": {},
   "outputs": [],
   "source": []
  },
  {
   "cell_type": "markdown",
   "id": "ee0c773e",
   "metadata": {},
   "source": [
    "### Ejercicio 10:\n",
    "- Obten una matriz con el calendario de junio, julio y agosto, como se muestra en la imagen:\n",
    "\n",
    "$$\n",
    "\\begin{bmatrix}\n",
    "31 & 1 & 2 & 3 & 4 & 5 & 6 \\\\\n",
    "7 & 8 & 9 & 10 & 11 & 12 & 13 \\\\\n",
    "14 & 15 & 16 & 17 & 18 & 19 & 20 \\\\\n",
    "21 & 22 & 23 & 24 & 25 & 26 & 27 \\\\\n",
    "28 & 29 & 30 & 1 & 2 & 3 & 4 \\\\\n",
    "5 & 6 & 7 & 8 & 9 & 10 & 11 \\\\\n",
    "12 & 13 & 14 & 15 & 16 & 17 & 18 \\\\\n",
    "19 & 20 & 21 & 22 & 23 & 24 & 25 \\\\\n",
    "26 & 27 & 28 & 29 & 30 & 31 & 1 \\\\\n",
    "2 & 3 & 4 & 5 & 6 & 7 & 8 \\\\\n",
    "9 & 10 & 11 & 12 & 13 & 14 & 15 \\\\\n",
    "16 & 17 & 18 & 19 & 20 & 21 & 22 \\\\\n",
    "23 & 24 & 25 & 26 & 27 & 28 & 29 \\\\\n",
    "30 & 31 & 1 & 2 & 3 & 4 & 5\n",
    "\\end{bmatrix}\n",
    "$$"
   ]
  },
  {
   "cell_type": "code",
   "execution_count": 14,
   "id": "c7053854",
   "metadata": {},
   "outputs": [
    {
     "name": "stdout",
     "output_type": "stream",
     "text": [
      "Calendario de junio, julio y agosto:\n",
      " [[31  1  2  3  4  5  6]\n",
      " [ 7  8  9 10 11 12 13]\n",
      " [14 15 16 17 18 19 20]\n",
      " [21 22 23 24 25 26 27]\n",
      " [28 29 30  1  2  3  4]\n",
      " [ 5  6  7  8  9 10 11]\n",
      " [12 13 14 15 16 17 18]\n",
      " [19 20 21 22 23 24 25]\n",
      " [26 27 28 29 30 31  1]\n",
      " [ 2  3  4  5  6  7  8]\n",
      " [ 9 10 11 12 13 14 15]\n",
      " [16 17 18 19 20 21 22]\n",
      " [23 24 25 26 27 28 29]\n",
      " [30 31  1  2  3  4  5]]\n"
     ]
    }
   ],
   "source": [
    "# Definir los días del calendario de junio, julio y agosto\n",
    "dias = [\n",
    "    [31, 1, 2, 3, 4, 5, 6],\n",
    "    [7, 8, 9, 10, 11, 12, 13],\n",
    "    [14, 15, 16, 17, 18, 19, 20],\n",
    "    [21, 22, 23, 24, 25, 26, 27],\n",
    "    [28, 29, 30, 1, 2, 3, 4],\n",
    "    [5, 6, 7, 8, 9, 10, 11],\n",
    "    [12, 13, 14, 15, 16, 17, 18],\n",
    "    [19, 20, 21, 22, 23, 24, 25],\n",
    "    [26, 27, 28, 29, 30, 31, 1],\n",
    "    [2, 3, 4, 5, 6, 7, 8],\n",
    "    [9, 10, 11, 12, 13, 14, 15],\n",
    "    [16, 17, 18, 19, 20, 21, 22],\n",
    "    [23, 24, 25, 26, 27, 28, 29],\n",
    "    [30, 31, 1, 2, 3, 4, 5]\n",
    "]\n",
    "\n",
    "# Convertir la lista a una matriz NumPy\n",
    "calendario = np.array(dias)\n",
    "\n",
    "print(\"Calendario de junio, julio y agosto:\\n\", calendario)\n"
   ]
  },
  {
   "cell_type": "code",
   "execution_count": null,
   "id": "44d70499",
   "metadata": {},
   "outputs": [],
   "source": []
  },
  {
   "cell_type": "code",
   "execution_count": null,
   "id": "072240ca",
   "metadata": {},
   "outputs": [],
   "source": []
  },
  {
   "cell_type": "markdown",
   "id": "5b8a6c12",
   "metadata": {},
   "source": [
    "### Ejercicio 11:\n",
    "- A partir de la matriz anterior obten la matriz de junio, julio y agosto haciendo slicing. Guarda cada mes en una variable."
   ]
  },
  {
   "cell_type": "code",
   "execution_count": 15,
   "id": "507c6050",
   "metadata": {},
   "outputs": [
    {
     "name": "stdout",
     "output_type": "stream",
     "text": [
      "Junio:\n",
      " [[31  1  2  3  4  5  6]\n",
      " [ 7  8  9 10 11 12 13]\n",
      " [14 15 16 17 18 19 20]\n",
      " [21 22 23 24 25 26 27]\n",
      " [28 29 30  1  2  3  4]]\n",
      "\n",
      "Julio:\n",
      " [[28 29 30  1  2  3  4]\n",
      " [ 5  6  7  8  9 10 11]\n",
      " [12 13 14 15 16 17 18]\n",
      " [19 20 21 22 23 24 25]\n",
      " [26 27 28 29 30 31  1]]\n",
      "\n",
      "Agosto:\n",
      " [[26 27 28 29 30 31  1]\n",
      " [ 2  3  4  5  6  7  8]\n",
      " [ 9 10 11 12 13 14 15]\n",
      " [16 17 18 19 20 21 22]\n",
      " [23 24 25 26 27 28 29]]\n"
     ]
    }
   ],
   "source": [
    "# Extraer las matrices para junio, julio y agosto\n",
    "junio = calendario[0:5, :]\n",
    "julio = calendario[4:9, :]\n",
    "agosto = calendario[8:13, :]\n",
    "\n",
    "print(\"Junio:\\n\", junio)\n",
    "print(\"\\nJulio:\\n\", julio)\n",
    "print(\"\\nAgosto:\\n\", agosto)\n"
   ]
  },
  {
   "cell_type": "code",
   "execution_count": null,
   "id": "b2c2d876",
   "metadata": {},
   "outputs": [],
   "source": []
  },
  {
   "cell_type": "code",
   "execution_count": null,
   "id": "f1f75763",
   "metadata": {},
   "outputs": [],
   "source": []
  },
  {
   "cell_type": "markdown",
   "id": "cd718614",
   "metadata": {},
   "source": [
    "### Ejercicio 12:\n",
    "- Suma las matrices de junio y julio, aplica la transpuesta, convierte la matriz en un vector, obten la suma acumulada del vector y divide todos los elementos entre el valor máximo del vector."
   ]
  },
  {
   "cell_type": "code",
   "execution_count": 16,
   "id": "8c0d365a",
   "metadata": {},
   "outputs": [
    {
     "name": "stdout",
     "output_type": "stream",
     "text": [
      "Matriz de junio + julio:\n",
      " [[59 30 32  4  6  8 10]\n",
      " [12 14 16 18 20 22 24]\n",
      " [26 28 30 32 34 36 38]\n",
      " [40 42 44 46 48 50 52]\n",
      " [54 56 58 30 32 34  5]]\n",
      "\n",
      "Matriz transpuesta:\n",
      " [[59 12 26 40 54]\n",
      " [30 14 28 42 56]\n",
      " [32 16 30 44 58]\n",
      " [ 4 18 32 46 30]\n",
      " [ 6 20 34 48 32]\n",
      " [ 8 22 36 50 34]\n",
      " [10 24 38 52  5]]\n",
      "\n",
      "Vector:\n",
      " [59 12 26 40 54 30 14 28 42 56 32 16 30 44 58  4 18 32 46 30  6 20 34 48\n",
      " 32  8 22 36 50 34 10 24 38 52  5]\n",
      "\n",
      "Suma acumulada del vector:\n",
      " [  59   71   97  137  191  221  235  263  305  361  393  409  439  483\n",
      "  541  545  563  595  641  671  677  697  731  779  811  819  841  877\n",
      "  927  961  971  995 1033 1085 1090]\n",
      "\n",
      "Vector normalizado:\n",
      " [0.05412844 0.06513761 0.08899083 0.12568807 0.17522936 0.20275229\n",
      " 0.21559633 0.2412844  0.27981651 0.33119266 0.36055046 0.37522936\n",
      " 0.40275229 0.44311927 0.49633028 0.5        0.51651376 0.54587156\n",
      " 0.58807339 0.61559633 0.62110092 0.63944954 0.6706422  0.7146789\n",
      " 0.7440367  0.75137615 0.77155963 0.80458716 0.85045872 0.88165138\n",
      " 0.89082569 0.91284404 0.94770642 0.99541284 1.        ]\n"
     ]
    }
   ],
   "source": [
    "# Sumar las matrices de junio y julio\n",
    "suma_matrices = junio + julio\n",
    "\n",
    "# Aplicar la transpuesta\n",
    "matriz_transpuesta = np.transpose(suma_matrices)\n",
    "\n",
    "# Convertir la matriz en un vector\n",
    "vector = matriz_transpuesta.flatten()\n",
    "\n",
    "# Obtener la suma acumulada del vector\n",
    "suma_acumulada = np.cumsum(vector)\n",
    "\n",
    "# Dividir todos los elementos entre el valor máximo del vector\n",
    "vector_normalizado = suma_acumulada / np.max(suma_acumulada)\n",
    "\n",
    "print(\"Matriz de junio + julio:\\n\", suma_matrices)\n",
    "print(\"\\nMatriz transpuesta:\\n\", matriz_transpuesta)\n",
    "print(\"\\nVector:\\n\", vector)\n",
    "print(\"\\nSuma acumulada del vector:\\n\", suma_acumulada)\n",
    "print(\"\\nVector normalizado:\\n\", vector_normalizado)\n"
   ]
  },
  {
   "cell_type": "code",
   "execution_count": null,
   "id": "ecdbb755",
   "metadata": {},
   "outputs": [],
   "source": []
  },
  {
   "cell_type": "code",
   "execution_count": null,
   "id": "05f28219",
   "metadata": {},
   "outputs": [],
   "source": []
  },
  {
   "cell_type": "markdown",
   "id": "0279df62",
   "metadata": {},
   "source": [
    "### Ejercicio 13:\n",
    "- Escribe un código que se pueda utilizar para generar este tipo de matrices automaticamente y aumenta la dimension de la matriz para observar los resultados como en la figura.\n",
    "\n",
    "$$\n",
    "\\begin{bmatrix}\n",
    "0 & 0 & 0 & 0 & 0 & 0 & 0 & 0 & 0 & 0 & 0 & 0 & 0 & 0 & 0 & 0 \\\\\n",
    "0 & 1 & 1 & 1 & 1 & 1 & 1 & 1 & 1 & 1 & 1 & 1 & 1 & 1 & 1 & 0 \\\\\n",
    "0 & 1 & 0 & 0 & 0 & 0 & 0 & 0 & 0 & 0 & 0 & 0 & 0 & 0 & 1 & 0 \\\\\n",
    "0 & 1 & 0 & 1 & 1 & 1 & 1 & 1 & 1 & 1 & 1 & 1 & 1 & 0 & 1 & 0 \\\\\n",
    "0 & 1 & 0 & 1 & 0 & 0 & 0 & 0 & 0 & 0 & 0 & 0 & 1 & 0 & 1 & 0 \\\\\n",
    "0 & 1 & 0 & 1 & 0 & 1 & 1 & 1 & 1 & 1 & 1 & 0 & 1 & 0 & 1 & 0 \\\\\n",
    "0 & 1 & 0 & 1 & 0 & 1 & 0 & 0 & 0 & 0 & 1 & 0 & 1 & 0 & 1 & 0 \\\\\n",
    "0 & 1 & 0 & 1 & 0 & 1 & 0 & 0 & 0 & 0 & 1 & 0 & 1 & 0 & 1 & 0 \\\\\n",
    "0 & 1 & 0 & 1 & 0 & 1 & 0 & 0 & 0 & 0 & 1 & 0 & 1 & 0 & 1 & 0 \\\\\n",
    "0 & 1 & 0 & 1 & 0 & 1 & 0 & 0 & 0 & 0 & 1 & 0 & 1 & 0 & 1 & 0 \\\\\n",
    "0 & 1 & 0 & 1 & 0 & 1 & 1 & 1 & 1 & 1 & 1 & 0 & 1 & 0 & 1 & 0 \\\\\n",
    "0 & 1 & 0 & 1 & 0 & 0 & 0 & 0 & 0 & 0 & 0 & 0 & 1 & 0 & 1 & 0 \\\\\n",
    "0 & 1 & 0 & 1 & 1 & 1 & 1 & 1 & 1 & 1 & 1 & 1 & 1 & 0 & 1 & 0 \\\\\n",
    "0 & 1 & 0 & 0 & 0 & 0 & 0 & 0 & 0 & 0 & 0 & 0 & 0 & 0 & 1 & 0 \\\\\n",
    "0 & 1 & 1 & 1 & 1 & 1 & 1 & 1 & 1 & 1 & 1 & 1 & 1 & 1 & 1 & 0 \\\\\n",
    "0 & 0 & 0 & 0 & 0 & 0 & 0 & 0 & 0 & 0 & 0 & 0 & 0 & 0 & 0 & 0\n",
    "\\end{bmatrix}\n",
    "$$"
   ]
  },
  {
   "attachments": {
    "numpy_7.png": {
     "image/png": "[encoded data removed]"
    }
   },
   "cell_type": "markdown",
   "id": "688a7a47",
   "metadata": {},
   "source": [
    "![numpy_7.png](attachment:numpy_7.png)"
   ]
  },
  {
   "cell_type": "code",
   "execution_count": 17,
   "id": "3122e1b5",
   "metadata": {},
   "outputs": [
    {
     "name": "stdout",
     "output_type": "stream",
     "text": [
      "Matriz resultante:\n",
      " [[0 0 0 0 0 0 0 0 0 0 0 0 0 0 0 0]\n",
      " [0 1 1 1 1 1 1 1 1 1 1 1 1 1 1 0]\n",
      " [0 1 0 0 0 0 0 0 0 0 0 0 0 0 1 0]\n",
      " [0 1 0 1 1 1 1 1 1 1 1 1 1 0 1 0]\n",
      " [0 1 0 1 0 0 0 0 0 0 0 0 1 0 1 0]\n",
      " [0 1 0 1 0 1 1 1 1 1 1 0 1 0 1 0]\n",
      " [0 1 0 1 0 1 0 0 0 0 1 0 1 0 1 0]\n",
      " [0 1 0 1 0 1 0 0 0 0 1 0 1 0 1 0]\n",
      " [0 1 0 1 0 1 0 0 0 0 1 0 1 0 1 0]\n",
      " [0 1 0 1 0 1 0 0 0 0 1 0 1 0 1 0]\n",
      " [0 1 0 1 0 1 1 1 1 1 1 0 1 0 1 0]\n",
      " [0 1 0 1 0 0 0 0 0 0 0 0 1 0 1 0]\n",
      " [0 1 0 1 1 1 1 1 1 1 1 1 1 0 1 0]\n",
      " [0 1 0 0 0 0 0 0 0 0 0 0 0 0 1 0]\n",
      " [0 1 1 1 1 1 1 1 1 1 1 1 1 1 1 0]\n",
      " [0 0 0 0 0 0 0 0 0 0 0 0 0 0 0 0]]\n"
     ]
    },
    {
     "data": {
      "image/png": "[encoded data removed]",
      "text/plain": [
       "<Figure size 640x480 with 1 Axes>"
      ]
     },
     "metadata": {},
     "output_type": "display_data"
    }
   ],
   "source": [
    "def generar_matriz_cuadrados(n, r):\n",
    "    # Crear una matriz de ceros de dimensiones (n, n)\n",
    "    matriz = np.zeros((n, n), dtype=int)\n",
    "    \n",
    "    # Definir el valor inicial\n",
    "    valor = 0\n",
    "    \n",
    "    # Iterar sobre las capas de la matriz\n",
    "    for capa in range((n + 1) // 2):\n",
    "        # Rellenar la capa actual con el valor correspondiente  \n",
    "        matriz[capa:n-capa, capa:n-capa] = valor\n",
    "        if (n - 2 * capa) <= r: \n",
    "            break\n",
    "        # Alternar entre 0 y 1\n",
    "        valor = 1 - valor\n",
    "\n",
    "    return matriz\n",
    "\n",
    "# Definir la dimensión de la matriz\n",
    "n = 16  \n",
    "r = 4\n",
    "\n",
    "# Generar la matriz del ejemplo\n",
    "matriz_resultante = generar_matriz_cuadrados(n, r)\n",
    "\n",
    "print(\"Matriz resultante:\\n\", matriz_resultante)\n",
    "\n",
    "n = 70\n",
    "r = 25\n",
    "\n",
    "# Generar la matriz del dibujo\n",
    "matriz_resultante = generar_matriz_cuadrados(n, r)\n",
    "plt.imshow(matriz_resultante, cmap='binary')\n",
    "#plt.title(f\"Matriz de {n} x {n}\")\n",
    "# Quitar las etiquetas de los ejes X y Y \n",
    "plt.xticks([]) \n",
    "plt.yticks([])\n",
    "plt.show()\n"
   ]
  },
  {
   "cell_type": "code",
   "execution_count": null,
   "id": "8118ec25",
   "metadata": {},
   "outputs": [],
   "source": []
  },
  {
   "cell_type": "code",
   "execution_count": null,
   "id": "3b059b7a",
   "metadata": {},
   "outputs": [],
   "source": []
  },
  {
   "cell_type": "code",
   "execution_count": 18,
   "id": "7cd90e58",
   "metadata": {},
   "outputs": [],
   "source": [
    "################################################################################################################################"
   ]
  }
 ],
 "metadata": {
  "kernelspec": {
   "display_name": "Python 3",
   "language": "python",
   "name": "python3"
  },
  "language_info": {
   "codemirror_mode": {
    "name": "ipython",
    "version": 3
   },
   "file_extension": ".py",
   "mimetype": "text/x-python",
   "name": "python",
   "nbconvert_exporter": "python",
   "pygments_lexer": "ipython3",
   "version": "3.13.1"
  }
 },
 "nbformat": 4,
 "nbformat_minor": 5
}
