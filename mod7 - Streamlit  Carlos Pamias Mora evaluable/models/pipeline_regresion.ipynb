{
 "cells": [
  {
   "cell_type": "code",
   "execution_count": 2,
   "metadata": {},
   "outputs": [],
   "source": [
    "import pandas as pd\n",
    "import seaborn as sns\n",
    "from sklearn.pipeline import make_pipeline\n",
    "from sklearn.impute import SimpleImputer\n",
    "from sklearn.preprocessing import MinMaxScaler, OneHotEncoder\n",
    "from sklearn.ensemble import RandomForestRegressor\n",
    "from sklearn.compose import make_column_selector, make_column_transformer\n",
    "import joblib\n",
    "\n",
    "df = sns.load_dataset('diamonds')\n",
    "\n",
    "X = df.drop('price', axis=1)\n",
    "y = df['price']\n"
   ]
  },
  {
   "cell_type": "code",
   "execution_count": 4,
   "metadata": {},
   "outputs": [
    {
     "name": "stdout",
     "output_type": "stream",
     "text": [
      "R2 en train 0.99743404541846\n"
     ]
    },
    {
     "data": {
      "text/plain": [
       "['pipeline_regresion.joblib']"
      ]
     },
     "execution_count": 4,
     "metadata": {},
     "output_type": "execute_result"
    }
   ],
   "source": [
    "# Alternativa más corta\n",
    "column_transformer = make_column_transformer(\n",
    "    (\n",
    "        make_pipeline(\n",
    "            SimpleImputer(strategy='median'),\n",
    "            MinMaxScaler()\n",
    "        ),\n",
    "        make_column_selector(dtype_include='number') \n",
    "    ),\n",
    "    (\n",
    "        make_pipeline(\n",
    "            SimpleImputer(strategy='most_frequent'),\n",
    "            OneHotEncoder(sparse_output=False)\n",
    "        ),\n",
    "        make_column_selector(dtype_include=['object', 'category']) # detecta automaticamente columnas categóricas\n",
    "    )\n",
    ")\n",
    "\n",
    "pipeline = make_pipeline(column_transformer, RandomForestRegressor(random_state=42))\n",
    "pipeline.fit(X, y)\n",
    "print('R2 en train', pipeline.score(X, y))\n",
    "joblib.dump(pipeline, 'pipeline_regresion.joblib')"
   ]
  }
 ],
 "metadata": {
  "kernelspec": {
   "display_name": ".venv",
   "language": "python",
   "name": "python3"
  },
  "language_info": {
   "codemirror_mode": {
    "name": "ipython",
    "version": 3
   },
   "file_extension": ".py",
   "mimetype": "text/x-python",
   "name": "python",
   "nbconvert_exporter": "python",
   "pygments_lexer": "ipython3",
   "version": "3.13.2"
  }
 },
 "nbformat": 4,
 "nbformat_minor": 2
}
