{
 "cells": [
  {
   "cell_type": "markdown",
   "metadata": {},
   "source": [
    "# Ejercicio Módulo 6 de Carlos Pamias Mora Finalizado\n",
    "\n",
    "* PARTE 1 (10 %) Carga de datos de diamonds desde CSV con schema: https://raw.githubusercontent.com/mwaskom/seaborn-data/refs/heads/master/diamonds.csv\n",
    "\n",
    "* PARTE 2 (40 %) Pipeline regresión price con preprocesados\n",
    "  * Imputer, StringIndexer, OneHotEncoder, MinMaxScaler o StandardScaler, VectorAssembler\n",
    "\n",
    "* PARTE 3 (40 %) Pipeline clasificación multiclase sobre variable cut con preprocesados\n",
    "  * Imputer, StringIndexer, OneHotEncoder, MinMaxScaler o StandardScaler, VectorAssembler\n",
    "\n",
    "* PARTE 4 (10 %) Gridsearch con CrossValidation sobre cualquiera de los pipelines\n",
    "\n",
    "Los modelos, se puede utilizar RandomForest para los dos por ejemplo o el que se quiera. Ejemplo RandomForestRegressor para regresión y MultiLayerPerceptronClassifier para clasificación.\n"
   ]
  },
  {
   "cell_type": "code",
   "execution_count": 1,
   "metadata": {},
   "outputs": [],
   "source": [
    "import seaborn as sns\n",
    "import pandas as pd\n",
    "import requests\n",
    "from pyspark.sql import SparkSession\n",
    "from pyspark.sql.functions import col, sum \n",
    "from pyspark.sql.types import StructType, StructField, FloatType, StringType, IntegerType,NumericType, StringType\n",
    "from pyspark.ml.feature import StringIndexer, Imputer, OneHotEncoder, VectorAssembler,MinMaxScaler, StandardScaler\n",
    "from pyspark.ml import Pipeline\n",
    "from pyspark.ml.classification import MultilayerPerceptronClassifier, LogisticRegression,RandomForestClassifier\n",
    "from pyspark.ml.regression import RandomForestRegressor, DecisionTreeRegressor\n",
    "from pyspark.ml.evaluation import MulticlassClassificationEvaluator, RegressionEvaluator\n",
    "from pyspark.ml.tuning import ParamGridBuilder, CrossValidator"
   ]
  },
  {
   "cell_type": "markdown",
   "metadata": {},
   "source": [
    "## PARTE 1 - Carga de datos de diamonds desde CSV para "
   ]
  },
  {
   "cell_type": "code",
   "execution_count": 2,
   "metadata": {},
   "outputs": [],
   "source": [
    "def star_load_data(tipo, accion):\n",
    "    if accion == 'I':\n",
    "        spark = SparkSession.builder.appName(f'pipeline_diamonds{tipo}').getOrCreate()\n",
    "        url = 'https://raw.githubusercontent.com/mwaskom/seaborn-data/refs/heads/master/diamonds.csv'\n",
    "        csv_path = 'diamonds.csv'\n",
    "\n",
    "        with open(csv_path, 'wb') as file:\n",
    "            file.write(requests.get(url).content)\n",
    "            \n",
    "        schema = StructType([\n",
    "            StructField('carat', FloatType(), True),\n",
    "            StructField('cut', StringType(), True),\n",
    "            StructField('color', StringType(), True),\n",
    "            StructField('clarity', StringType(), True),\n",
    "            StructField('depth', FloatType(), True),\n",
    "            StructField('table', FloatType(), True),\n",
    "            StructField('price', IntegerType(), True),\n",
    "            StructField('x', FloatType(), True),\n",
    "            StructField('y', FloatType(), True),\n",
    "            StructField('z', FloatType(), True),\n",
    "            ])\n",
    "        df = spark.read.csv(csv_path, header=True, inferSchema=False, schema=schema)\n",
    "        df.show(5)\n",
    "        df.printSchema()\n",
    "        return df\n",
    "    elif accion == 'S':\n",
    "        try:\n",
    "            # Detener la sesión de Spark\n",
    "            spark = SparkSession.getActiveSession()\n",
    "            if spark is not None:\n",
    "                spark.stop()\n",
    "                print(\"Sesión detenida.\")\n",
    "            else:\n",
    "                print(\"No hay ninguna sesión activa.\")\n",
    "        except Exception as e:\n",
    "            print(f\"Error: {e}\")\n",
    "\n",
    "    else:\n",
    "        print(\"Acción no válida. Use 'I' para inicializar o 'S' para detener.\")"
   ]
  },
  {
   "cell_type": "markdown",
   "metadata": {},
   "source": [
    "## PARTE 2 Pipeline regresión price con preprocesados\n",
    "  * Imputer, StringIndexer, OneHotEncoder, MinMaxScaler, VectorAssembler"
   ]
  },
  {
   "cell_type": "code",
   "execution_count": 3,
   "metadata": {},
   "outputs": [
    {
     "name": "stdout",
     "output_type": "stream",
     "text": [
      "+-----+-------+-----+-------+-----+-----+-----+----+----+----+\n",
      "|carat|    cut|color|clarity|depth|table|price|   x|   y|   z|\n",
      "+-----+-------+-----+-------+-----+-----+-----+----+----+----+\n",
      "| 0.23|  Ideal|    E|    SI2| 61.5| 55.0|  326|3.95|3.98|2.43|\n",
      "| 0.21|Premium|    E|    SI1| 59.8| 61.0|  326|3.89|3.84|2.31|\n",
      "| 0.23|   Good|    E|    VS1| 56.9| 65.0|  327|4.05|4.07|2.31|\n",
      "| 0.29|Premium|    I|    VS2| 62.4| 58.0|  334| 4.2|4.23|2.63|\n",
      "| 0.31|   Good|    J|    SI2| 63.3| 58.0|  335|4.34|4.35|2.75|\n",
      "+-----+-------+-----+-------+-----+-----+-----+----+----+----+\n",
      "only showing top 5 rows\n",
      "\n",
      "root\n",
      " |-- carat: float (nullable = true)\n",
      " |-- cut: string (nullable = true)\n",
      " |-- color: string (nullable = true)\n",
      " |-- clarity: string (nullable = true)\n",
      " |-- depth: float (nullable = true)\n",
      " |-- table: float (nullable = true)\n",
      " |-- price: integer (nullable = true)\n",
      " |-- x: float (nullable = true)\n",
      " |-- y: float (nullable = true)\n",
      " |-- z: float (nullable = true)\n",
      "\n"
     ]
    }
   ],
   "source": [
    "df = star_load_data('regresion', 'I')"
   ]
  },
  {
   "cell_type": "code",
   "execution_count": 4,
   "metadata": {},
   "outputs": [
    {
     "name": "stdout",
     "output_type": "stream",
     "text": [
      "+-----+---+-----+-------+-----+-----+-----+---+---+---+\n",
      "|carat|cut|color|clarity|depth|table|price|  x|  y|  z|\n",
      "+-----+---+-----+-------+-----+-----+-----+---+---+---+\n",
      "|    0|  0|    0|      0|    0|    0|    0|  0|  0|  0|\n",
      "+-----+---+-----+-------+-----+-----+-----+---+---+---+\n",
      "\n"
     ]
    }
   ],
   "source": [
    "# Como vamos a predecir island borramos filas donde island sea nan:\n",
    "df = df.dropna(subset=['price'])\n",
    "\n",
    "# contar nulos en todas las columnas: equivalente a pandas df.isna().sum()\n",
    "df.select([sum(col(c).isNull().cast('int')).alias(c) for c in df.columns]).show()"
   ]
  },
  {
   "cell_type": "code",
   "execution_count": 5,
   "metadata": {},
   "outputs": [],
   "source": [
    "# seleccionar los nombres de las columnas a las que aplicar Preprocesados\n",
    "numerical_cols = [field.name for field in df.schema.fields if isinstance(field.dataType, NumericType)and field.name != 'price']\n",
    "categorical_cols = [field.name for field in df.schema.fields if isinstance(field.dataType, StringType)]"
   ]
  },
  {
   "cell_type": "code",
   "execution_count": 6,
   "metadata": {},
   "outputs": [],
   "source": [
    "df = df.withColumnRenamed('price', 'label')"
   ]
  },
  {
   "cell_type": "code",
   "execution_count": 7,
   "metadata": {},
   "outputs": [
    {
     "name": "stdout",
     "output_type": "stream",
     "text": [
      "['cut_indexed', 'color_indexed', 'clarity_indexed']\n"
     ]
    }
   ],
   "source": [
    "indexers_features = [\n",
    "    StringIndexer(inputCol=c, outputCol=c + '_indexed', handleInvalid='keep') for c in categorical_cols\n",
    "]\n",
    "categorical_cols_indexed = [c + '_indexed' for c in categorical_cols]\n",
    "print(categorical_cols_indexed)"
   ]
  },
  {
   "cell_type": "code",
   "execution_count": 8,
   "metadata": {},
   "outputs": [
    {
     "name": "stdout",
     "output_type": "stream",
     "text": [
      "['cut_indexed_imputed', 'color_indexed_imputed', 'clarity_indexed_imputed']\n"
     ]
    }
   ],
   "source": [
    "# Imputer con la moda para las columnas categóricas indexadas\n",
    "imputer_categorical = Imputer(\n",
    "    inputCols=categorical_cols_indexed,\n",
    "    outputCols=[c + '_imputed' for c in categorical_cols_indexed],\n",
    "    strategy='mode'\n",
    ")\n",
    "categorical_cols_indexed_imputed = [c + '_imputed' for c in categorical_cols_indexed]\n",
    "print(categorical_cols_indexed_imputed)"
   ]
  },
  {
   "cell_type": "code",
   "execution_count": 9,
   "metadata": {},
   "outputs": [
    {
     "name": "stdout",
     "output_type": "stream",
     "text": [
      "['cut_indexed_imputed_onehot', 'color_indexed_imputed_onehot', 'clarity_indexed_imputed_onehot']\n"
     ]
    }
   ],
   "source": [
    "# one hot encoders para las categóricas indexadas imputadas\n",
    "encoders_onehot = [\n",
    "    OneHotEncoder(inputCol=c, outputCol=c + '_onehot') \n",
    "    for c in categorical_cols_indexed_imputed\n",
    "]\n",
    "categorical_cols_onehot = [c + '_onehot' for c in categorical_cols_indexed_imputed]\n",
    "print(categorical_cols_onehot)"
   ]
  },
  {
   "cell_type": "code",
   "execution_count": 10,
   "metadata": {},
   "outputs": [
    {
     "name": "stdout",
     "output_type": "stream",
     "text": [
      "['carat_imputed', 'depth_imputed', 'table_imputed', 'x_imputed', 'y_imputed', 'z_imputed']\n"
     ]
    }
   ],
   "source": [
    "# Imputer con la mediana para la columnas numéricas\n",
    "imputer_numerical = Imputer(\n",
    "    inputCols=numerical_cols,\n",
    "    outputCols=[c + '_imputed' for c in numerical_cols],\n",
    "    strategy='median'\n",
    ")\n",
    "numerical_cols_imputed = [c + '_imputed' for c in numerical_cols]\n",
    "print(numerical_cols_imputed)"
   ]
  },
  {
   "cell_type": "code",
   "execution_count": 11,
   "metadata": {},
   "outputs": [],
   "source": [
    "# (Opcional) escalar numéricas con MinMaxScaler\n",
    "assembler_numerical = VectorAssembler(\n",
    "    inputCols=numerical_cols_imputed,\n",
    "    outputCol='numeric_features'\n",
    ")\n",
    "scaler = MinMaxScaler(\n",
    "    inputCol='numeric_features',\n",
    "    outputCol='numeric_features_scaled'\n",
    ")"
   ]
  },
  {
   "cell_type": "code",
   "execution_count": 12,
   "metadata": {},
   "outputs": [
    {
     "name": "stdout",
     "output_type": "stream",
     "text": [
      "['numeric_features_scaled', 'cut_indexed_imputed_onehot', 'color_indexed_imputed_onehot', 'clarity_indexed_imputed_onehot']\n"
     ]
    }
   ],
   "source": [
    "all_columns = ['numeric_features_scaled'] + categorical_cols_onehot\n",
    "print(all_columns)"
   ]
  },
  {
   "cell_type": "code",
   "execution_count": 13,
   "metadata": {},
   "outputs": [],
   "source": [
    "# Ensamblar todo: numéricas + categóricas y obtener features\n",
    "assembler_all = VectorAssembler(\n",
    "    inputCols=all_columns,\n",
    "    outputCol='features'\n",
    ")"
   ]
  },
  {
   "cell_type": "code",
   "execution_count": 14,
   "metadata": {},
   "outputs": [],
   "source": [
    "classifier = RandomForestRegressor(seed=42)"
   ]
  },
  {
   "cell_type": "code",
   "execution_count": 15,
   "metadata": {},
   "outputs": [],
   "source": [
    "# particionamiento de datos\n",
    "df_train, df_test = df.randomSplit([0.8, 0.2], seed=42)"
   ]
  },
  {
   "cell_type": "code",
   "execution_count": 16,
   "metadata": {},
   "outputs": [],
   "source": [
    "pipeline = Pipeline(stages = [\n",
    "    # 1. Indexers para columnas categóricas: \n",
    "    *indexers_features, # ponemos * porque es una lista de objetos\n",
    "    # 2. Imputer para categóricas\n",
    "    imputer_categorical,\n",
    "    # 3. One Hot Encoders para categóricas\n",
    "    *encoders_onehot, # ponemos * porque es una lista de objetos\n",
    "    # 4. Imputer para numéricas\n",
    "    imputer_numerical,\n",
    "    # 5. Ensamblar numéricas + escalado\n",
    "    assembler_numerical,\n",
    "    scaler,\n",
    "    # 6. Ensamblar numéricas escaladas + categóricas en una sola columna 'features'\n",
    "    assembler_all,\n",
    "    # 7. modelo de clasificación\n",
    "    classifier\n",
    "])"
   ]
  },
  {
   "cell_type": "code",
   "execution_count": 17,
   "metadata": {},
   "outputs": [],
   "source": [
    "pipeline_model = pipeline.fit(df_train)\n",
    "df_pred = pipeline_model.transform(df_test)"
   ]
  },
  {
   "cell_type": "code",
   "execution_count": 18,
   "metadata": {},
   "outputs": [],
   "source": [
    "evaluator_r2 = RegressionEvaluator(metricName='r2')\n",
    "evaluator_mae = RegressionEvaluator(metricName='mae')\n",
    "evaluator_mse = RegressionEvaluator(metricName='mse')\n",
    "evaluator_rmse = RegressionEvaluator(metricName='rmse')"
   ]
  },
  {
   "cell_type": "code",
   "execution_count": 19,
   "metadata": {},
   "outputs": [
    {
     "name": "stdout",
     "output_type": "stream",
     "text": [
      "r2 0.9070336070647529\n",
      "mae 684.109865656974\n",
      "mse 1512592.3852326302\n",
      "rmse 1229.8749469895833\n"
     ]
    }
   ],
   "source": [
    "print('r2', evaluator_r2.evaluate(df_pred))\n",
    "print('mae', evaluator_mae.evaluate(df_pred))\n",
    "print('mse', evaluator_mse.evaluate(df_pred))\n",
    "print('rmse', evaluator_rmse.evaluate(df_pred))"
   ]
  },
  {
   "cell_type": "code",
   "execution_count": 20,
   "metadata": {},
   "outputs": [
    {
     "name": "stdout",
     "output_type": "stream",
     "text": [
      "Sesión detenida.\n"
     ]
    }
   ],
   "source": [
    "df = star_load_data('', 'S')"
   ]
  },
  {
   "cell_type": "markdown",
   "metadata": {},
   "source": [
    "## PARTE 3 Pipeline clasificación multiclase sobre variable cut con preprocesados\n",
    "  * Imputer, StringIndexer, OneHotEncoder, StandardScaler, VectorAssembler  "
   ]
  },
  {
   "cell_type": "code",
   "execution_count": 21,
   "metadata": {},
   "outputs": [
    {
     "name": "stdout",
     "output_type": "stream",
     "text": [
      "+-----+-------+-----+-------+-----+-----+-----+----+----+----+\n",
      "|carat|    cut|color|clarity|depth|table|price|   x|   y|   z|\n",
      "+-----+-------+-----+-------+-----+-----+-----+----+----+----+\n",
      "| 0.23|  Ideal|    E|    SI2| 61.5| 55.0|  326|3.95|3.98|2.43|\n",
      "| 0.21|Premium|    E|    SI1| 59.8| 61.0|  326|3.89|3.84|2.31|\n",
      "| 0.23|   Good|    E|    VS1| 56.9| 65.0|  327|4.05|4.07|2.31|\n",
      "| 0.29|Premium|    I|    VS2| 62.4| 58.0|  334| 4.2|4.23|2.63|\n",
      "| 0.31|   Good|    J|    SI2| 63.3| 58.0|  335|4.34|4.35|2.75|\n",
      "+-----+-------+-----+-------+-----+-----+-----+----+----+----+\n",
      "only showing top 5 rows\n",
      "\n",
      "root\n",
      " |-- carat: float (nullable = true)\n",
      " |-- cut: string (nullable = true)\n",
      " |-- color: string (nullable = true)\n",
      " |-- clarity: string (nullable = true)\n",
      " |-- depth: float (nullable = true)\n",
      " |-- table: float (nullable = true)\n",
      " |-- price: integer (nullable = true)\n",
      " |-- x: float (nullable = true)\n",
      " |-- y: float (nullable = true)\n",
      " |-- z: float (nullable = true)\n",
      "\n"
     ]
    }
   ],
   "source": [
    "df = star_load_data('clasification', 'I')"
   ]
  },
  {
   "cell_type": "code",
   "execution_count": 22,
   "metadata": {},
   "outputs": [
    {
     "name": "stdout",
     "output_type": "stream",
     "text": [
      "+-----+---+-----+-------+-----+-----+-----+---+---+---+\n",
      "|carat|cut|color|clarity|depth|table|price|  x|  y|  z|\n",
      "+-----+---+-----+-------+-----+-----+-----+---+---+---+\n",
      "|    0|  0|    0|      0|    0|    0|    0|  0|  0|  0|\n",
      "+-----+---+-----+-------+-----+-----+-----+---+---+---+\n",
      "\n"
     ]
    }
   ],
   "source": [
    "# Como vamos a predecir island borramos filas donde island sea nan:\n",
    "df = df.dropna(subset=['cut'])\n",
    "\n",
    "# contar nulos en todas las columnas: equivalente a pandas df.isna().sum()\n",
    "df.select([sum(col(c).isNull().cast('int')).alias(c) for c in df.columns]).show()"
   ]
  },
  {
   "cell_type": "code",
   "execution_count": 23,
   "metadata": {},
   "outputs": [],
   "source": [
    "# seleccionar los nombres de las columnas a las que aplicar Preprocesados\n",
    "numerical_cols = [field.name for field in df.schema.fields if isinstance(field.dataType, NumericType)]\n",
    "categorical_cols = [field.name for field in df.schema.fields if isinstance(field.dataType, StringType) and field.name != 'cut']\n",
    "label_col = 'cut'"
   ]
  },
  {
   "cell_type": "code",
   "execution_count": 24,
   "metadata": {},
   "outputs": [],
   "source": [
    "# Indexer para 'cut' la columna a predecir\n",
    "indexer_label = StringIndexer(\n",
    "    inputCol=label_col,\n",
    "    outputCol='label',\n",
    "    handleInvalid='keep'\n",
    ")\n",
    "#num_classes = df.select(\"cut\").distinct().count()"
   ]
  },
  {
   "cell_type": "code",
   "execution_count": 25,
   "metadata": {},
   "outputs": [],
   "source": [
    "# (Opcional) escalar numéricas con StandardScaler\n",
    "scaler1 = StandardScaler(\n",
    "    inputCol='numeric_features',\n",
    "    outputCol='numeric_features_scaled',\n",
    "    withMean=True # centrar en la media\n",
    ")"
   ]
  },
  {
   "cell_type": "code",
   "execution_count": 26,
   "metadata": {},
   "outputs": [],
   "source": [
    "classifier1 = LogisticRegression()"
   ]
  },
  {
   "cell_type": "code",
   "execution_count": 27,
   "metadata": {},
   "outputs": [],
   "source": [
    "# particionamiento de datos\n",
    "df_train, df_test = df.randomSplit([0.8, 0.2], seed=42)"
   ]
  },
  {
   "cell_type": "code",
   "execution_count": 28,
   "metadata": {},
   "outputs": [],
   "source": [
    "pipeline = Pipeline(stages = [\n",
    "    # 1. Indexer para columna categórica 'cut'\n",
    "    indexer_label,\n",
    "    # 2. Indexers para columnas categóricas: 'color', 'clarity'\n",
    "    *indexers_features, # ponemos * porque es una lista de objetos\n",
    "    # 3. Imputer para categóricas\n",
    "    imputer_categorical,\n",
    "    # 4. One Hot Encoders para categóricas\n",
    "    *encoders_onehot, # ponemos * porque es una lista de objetos\n",
    "    # 5. Imputer para numéricas\n",
    "    imputer_numerical,\n",
    "    # 6. Ensamblar numéricas + escalado\n",
    "    assembler_numerical,\n",
    "    scaler1,\n",
    "    # 7. Ensamblar numéricas escaladas + categóricas en una sola columna 'features'\n",
    "    assembler_all,\n",
    "    # 8. modelo de clasificación\n",
    "    classifier1\n",
    "])"
   ]
  },
  {
   "cell_type": "code",
   "execution_count": 29,
   "metadata": {},
   "outputs": [],
   "source": [
    "pipeline_model = pipeline.fit(df_train)\n",
    "df_pred = pipeline_model.transform(df_test)"
   ]
  },
  {
   "cell_type": "code",
   "execution_count": 30,
   "metadata": {},
   "outputs": [],
   "source": [
    "# PASO 4: Obtener la dimensión del vector `features`\n",
    "#feature_vector_size = df_pred.select(\"features\").first()[0].size"
   ]
  },
  {
   "cell_type": "code",
   "execution_count": 31,
   "metadata": {},
   "outputs": [],
   "source": [
    "#layers = [feature_vector_size, 16, 64, num_classes]  \n",
    "#mlp = MultilayerPerceptronClassifier(featuresCol=\"features\", labelCol=\"label\", layers=layers, seed=42, maxIter=50)\n",
    "\n",
    "#mlp_model = mlp.fit(df_pred)"
   ]
  },
  {
   "cell_type": "code",
   "execution_count": 32,
   "metadata": {},
   "outputs": [],
   "source": [
    "evaluator_accuracy = MulticlassClassificationEvaluator(metricName='accuracy')\n",
    "evaluator_f1 = MulticlassClassificationEvaluator(metricName='f1')\n",
    "evaluator_precision = MulticlassClassificationEvaluator(metricName='weightedPrecision')\n",
    "evaluator_recall = MulticlassClassificationEvaluator(metricName='weightedRecall')"
   ]
  },
  {
   "cell_type": "code",
   "execution_count": 33,
   "metadata": {},
   "outputs": [
    {
     "name": "stdout",
     "output_type": "stream",
     "text": [
      "accuracy 1.0\n",
      "f1 1.0\n",
      "precision 1.0\n",
      "recall 1.0\n"
     ]
    }
   ],
   "source": [
    "print('accuracy', evaluator_accuracy.evaluate(df_pred))\n",
    "print('f1', evaluator_f1.evaluate(df_pred))\n",
    "print('precision', evaluator_precision.evaluate(df_pred))\n",
    "print('recall', evaluator_recall.evaluate(df_pred))"
   ]
  },
  {
   "cell_type": "code",
   "execution_count": 34,
   "metadata": {},
   "outputs": [
    {
     "name": "stdout",
     "output_type": "stream",
     "text": [
      "Sesión detenida.\n"
     ]
    }
   ],
   "source": [
    "df = star_load_data('', 'S')"
   ]
  },
  {
   "cell_type": "markdown",
   "metadata": {},
   "source": [
    "## PARTE 4 - 1 Gridsearch con CrossValidation sobre pipeline de Clasification"
   ]
  },
  {
   "cell_type": "code",
   "execution_count": 35,
   "metadata": {},
   "outputs": [
    {
     "name": "stdout",
     "output_type": "stream",
     "text": [
      "+-----+-------+-----+-------+-----+-----+-----+----+----+----+\n",
      "|carat|    cut|color|clarity|depth|table|price|   x|   y|   z|\n",
      "+-----+-------+-----+-------+-----+-----+-----+----+----+----+\n",
      "| 0.23|  Ideal|    E|    SI2| 61.5| 55.0|  326|3.95|3.98|2.43|\n",
      "| 0.21|Premium|    E|    SI1| 59.8| 61.0|  326|3.89|3.84|2.31|\n",
      "| 0.23|   Good|    E|    VS1| 56.9| 65.0|  327|4.05|4.07|2.31|\n",
      "| 0.29|Premium|    I|    VS2| 62.4| 58.0|  334| 4.2|4.23|2.63|\n",
      "| 0.31|   Good|    J|    SI2| 63.3| 58.0|  335|4.34|4.35|2.75|\n",
      "+-----+-------+-----+-------+-----+-----+-----+----+----+----+\n",
      "only showing top 5 rows\n",
      "\n",
      "root\n",
      " |-- carat: float (nullable = true)\n",
      " |-- cut: string (nullable = true)\n",
      " |-- color: string (nullable = true)\n",
      " |-- clarity: string (nullable = true)\n",
      " |-- depth: float (nullable = true)\n",
      " |-- table: float (nullable = true)\n",
      " |-- price: integer (nullable = true)\n",
      " |-- x: float (nullable = true)\n",
      " |-- y: float (nullable = true)\n",
      " |-- z: float (nullable = true)\n",
      "\n",
      "+-----+---+-----+-------+-----+-----+-----+---+---+---+\n",
      "|carat|cut|color|clarity|depth|table|price|  x|  y|  z|\n",
      "+-----+---+-----+-------+-----+-----+-----+---+---+---+\n",
      "|    0|  0|    0|      0|    0|    0|    0|  0|  0|  0|\n",
      "+-----+---+-----+-------+-----+-----+-----+---+---+---+\n",
      "\n"
     ]
    }
   ],
   "source": [
    "df = star_load_data('CrossValidation_clasification', 'I')\n",
    "df = df.dropna(subset=['cut'])\n",
    "df.select([sum(col(c).isNull().cast('int')).alias(c) for c in df.columns]).show()\n",
    "numerical_cols = [field.name for field in df.schema.fields if isinstance(field.dataType, NumericType)]\n",
    "categorical_cols = [field.name for field in df.schema.fields if isinstance(field.dataType, StringType) and field.name != 'cut']\n",
    "label_col = 'cut'"
   ]
  },
  {
   "cell_type": "code",
   "execution_count": 36,
   "metadata": {},
   "outputs": [],
   "source": [
    "classifier2 = RandomForestClassifier(seed=42)"
   ]
  },
  {
   "cell_type": "code",
   "execution_count": 37,
   "metadata": {},
   "outputs": [],
   "source": [
    "df_train, df_test = df.randomSplit([0.8, 0.2], seed=42)"
   ]
  },
  {
   "cell_type": "code",
   "execution_count": 38,
   "metadata": {},
   "outputs": [],
   "source": [
    "pipeline = Pipeline(stages = [\n",
    "    # 1. Indexer para columna categórica 'island' StringIndexer porque es la columna a predecir\n",
    "    indexer_label,\n",
    "    # 2. Indexers para columnas categóricas: 'species', 'sex' \n",
    "    *indexers_features, # ponemos * porque es una lista de objetos\n",
    "    # 3. Imputer para categóricas\n",
    "    imputer_categorical,\n",
    "    # 4. One Hot Encoders para categóricas\n",
    "    *encoders_onehot, # ponemos * porque es una lista de objetos\n",
    "    # 5. Imputer para numéricas\n",
    "    imputer_numerical,\n",
    "    # 6. Ensamblar numéricas + escalado\n",
    "    assembler_numerical,\n",
    "    scaler,\n",
    "    # 7. Ensamblar numéricas escaladas + categóricas en una sola columna 'features'\n",
    "    assembler_all,\n",
    "    # 8. modelo de clasificación\n",
    "    classifier2\n",
    "])"
   ]
  },
  {
   "cell_type": "code",
   "execution_count": 39,
   "metadata": {},
   "outputs": [],
   "source": [
    "\n",
    "paramGrid1 = (\n",
    "    ParamGridBuilder()\n",
    "    .addGrid(classifier2.numTrees, [5, 10, 15, 20, 25, 30]) \n",
    "    .addGrid(classifier2.maxDepth, [3, 5, 10, 15, 20, 25, 30]) # por defecto es 5 rango de [0, 30]\n",
    "    .build()\n",
    ")"
   ]
  },
  {
   "cell_type": "code",
   "execution_count": 40,
   "metadata": {},
   "outputs": [],
   "source": [
    "crossval = CrossValidator(\n",
    "    estimator=pipeline,\n",
    "    estimatorParamMaps=paramGrid1, # Parámetros para grid search hyper parameter tuning\n",
    "    evaluator=evaluator_f1,\n",
    "    numFolds=3, # por defecto ya 3 folds\n",
    "    parallelism=4,\n",
    "    seed=42\n",
    ")\n",
    "cv_model = crossval.fit(df_train)\n",
    "df_pred = cv_model.transform(df_test)"
   ]
  },
  {
   "cell_type": "code",
   "execution_count": 41,
   "metadata": {},
   "outputs": [
    {
     "name": "stdout",
     "output_type": "stream",
     "text": [
      "accuracy 1.0\n",
      "f1 1.0\n",
      "precision 1.0\n",
      "recall 1.0\n"
     ]
    }
   ],
   "source": [
    "print('accuracy', evaluator_accuracy.evaluate(df_pred))\n",
    "print('f1', evaluator_f1.evaluate(df_pred))\n",
    "print('precision', evaluator_precision.evaluate(df_pred))\n",
    "print('recall', evaluator_recall.evaluate(df_pred))"
   ]
  },
  {
   "cell_type": "code",
   "execution_count": 42,
   "metadata": {},
   "outputs": [
    {
     "name": "stdout",
     "output_type": "stream",
     "text": [
      "{Param(parent='RandomForestClassifier_e12e609646c3', name='bootstrap', doc='Whether bootstrap samples are used when building trees.'): True, Param(parent='RandomForestClassifier_e12e609646c3', name='cacheNodeIds', doc='If false, the algorithm will pass trees to executors to match instances with nodes. If true, the algorithm will cache node IDs for each instance. Caching can speed up training of deeper trees. Users can set how often should the cache be checkpointed or disable it by setting checkpointInterval.'): False, Param(parent='RandomForestClassifier_e12e609646c3', name='checkpointInterval', doc='set checkpoint interval (>= 1) or disable checkpoint (-1). E.g. 10 means that the cache will get checkpointed every 10 iterations. Note: this setting will be ignored if the checkpoint directory is not set in the SparkContext.'): 10, Param(parent='RandomForestClassifier_e12e609646c3', name='featureSubsetStrategy', doc=\"The number of features to consider for splits at each tree node. Supported options: 'auto' (choose automatically for task: If numTrees == 1, set to 'all'. If numTrees > 1 (forest), set to 'sqrt' for classification and to 'onethird' for regression), 'all' (use all features), 'onethird' (use 1/3 of the features), 'sqrt' (use sqrt(number of features)), 'log2' (use log2(number of features)), 'n' (when n is in the range (0, 1.0], use n * number of features. When n is in the range (1, number of features), use n features). default = 'auto'\"): 'auto', Param(parent='RandomForestClassifier_e12e609646c3', name='featuresCol', doc='features column name.'): 'features', Param(parent='RandomForestClassifier_e12e609646c3', name='impurity', doc='Criterion used for information gain calculation (case-insensitive). Supported options: entropy, gini'): 'gini', Param(parent='RandomForestClassifier_e12e609646c3', name='labelCol', doc='label column name.'): 'label', Param(parent='RandomForestClassifier_e12e609646c3', name='leafCol', doc='Leaf indices column name. Predicted leaf index of each instance in each tree by preorder.'): '', Param(parent='RandomForestClassifier_e12e609646c3', name='maxBins', doc='Max number of bins for discretizing continuous features.  Must be >=2 and >= number of categories for any categorical feature.'): 32, Param(parent='RandomForestClassifier_e12e609646c3', name='maxDepth', doc='Maximum depth of the tree. (>= 0) E.g., depth 0 means 1 leaf node; depth 1 means 1 internal node + 2 leaf nodes. Must be in range [0, 30].'): 15, Param(parent='RandomForestClassifier_e12e609646c3', name='maxMemoryInMB', doc='Maximum memory in MB allocated to histogram aggregation. If too small, then 1 node will be split per iteration, and its aggregates may exceed this size.'): 256, Param(parent='RandomForestClassifier_e12e609646c3', name='minInfoGain', doc='Minimum information gain for a split to be considered at a tree node.'): 0.0, Param(parent='RandomForestClassifier_e12e609646c3', name='minInstancesPerNode', doc='Minimum number of instances each child must have after split. If a split causes the left or right child to have fewer than minInstancesPerNode, the split will be discarded as invalid. Should be >= 1.'): 1, Param(parent='RandomForestClassifier_e12e609646c3', name='minWeightFractionPerNode', doc='Minimum fraction of the weighted sample count that each child must have after split. If a split causes the fraction of the total weight in the left or right child to be less than minWeightFractionPerNode, the split will be discarded as invalid. Should be in interval [0.0, 0.5).'): 0.0, Param(parent='RandomForestClassifier_e12e609646c3', name='numTrees', doc='Number of trees to train (>= 1).'): 15, Param(parent='RandomForestClassifier_e12e609646c3', name='predictionCol', doc='prediction column name.'): 'prediction', Param(parent='RandomForestClassifier_e12e609646c3', name='probabilityCol', doc='Column name for predicted class conditional probabilities. Note: Not all models output well-calibrated probability estimates! These probabilities should be treated as confidences, not precise probabilities.'): 'probability', Param(parent='RandomForestClassifier_e12e609646c3', name='rawPredictionCol', doc='raw prediction (a.k.a. confidence) column name.'): 'rawPrediction', Param(parent='RandomForestClassifier_e12e609646c3', name='seed', doc='random seed.'): 42, Param(parent='RandomForestClassifier_e12e609646c3', name='subsamplingRate', doc='Fraction of the training data used for learning each decision tree, in range (0, 1].'): 1.0}\n",
      "15\n",
      "15\n",
      "(23,[0,1,2,3,4,5,6,7,8,9,10,11,12,13,14,15,16,17,18,19,20,21,22],[0.00358401042870678,0.045389999706540576,0.06904650943166446,0.0024422580248697006,0.0052913129177548516,0.004453685225388404,0.318206599824993,0.22388330554011118,0.21605939679755182,0.1097420876642724,0.0001308306284136912,7.344936791701128e-05,0.00012226904714839686,6.953691790924179e-05,0.00015121681215358098,0.00010816530453225371,0.00038376548944021464,0.00010689944289749995,0.00020175786064357854,4.8985138261864725e-05,0.00023805611918200592,0.00011099610015813098,0.00015490620948941042])\n"
     ]
    }
   ],
   "source": [
    "best_model = cv_model.bestModel\n",
    "best_rf = best_model.stages[-1] # accede a la última fase del pipeline que es el modelo classifier\n",
    "print(best_rf.extractParamMap())\n",
    "print(best_rf.getNumTrees)\n",
    "print(best_rf.getOrDefault('maxDepth'))\n",
    "print(best_rf.featureImportances)"
   ]
  },
  {
   "cell_type": "code",
   "execution_count": 43,
   "metadata": {},
   "outputs": [
    {
     "name": "stdout",
     "output_type": "stream",
     "text": [
      "Sesión detenida.\n"
     ]
    }
   ],
   "source": [
    "df = star_load_data('', 'S')"
   ]
  },
  {
   "cell_type": "markdown",
   "metadata": {},
   "source": [
    "## PARTE 4 -2 (10 %) Gridsearch con CrossValidation sobre pipeline de regresion"
   ]
  },
  {
   "cell_type": "code",
   "execution_count": 44,
   "metadata": {},
   "outputs": [
    {
     "name": "stdout",
     "output_type": "stream",
     "text": [
      "+-----+-------+-----+-------+-----+-----+-----+----+----+----+\n",
      "|carat|    cut|color|clarity|depth|table|price|   x|   y|   z|\n",
      "+-----+-------+-----+-------+-----+-----+-----+----+----+----+\n",
      "| 0.23|  Ideal|    E|    SI2| 61.5| 55.0|  326|3.95|3.98|2.43|\n",
      "| 0.21|Premium|    E|    SI1| 59.8| 61.0|  326|3.89|3.84|2.31|\n",
      "| 0.23|   Good|    E|    VS1| 56.9| 65.0|  327|4.05|4.07|2.31|\n",
      "| 0.29|Premium|    I|    VS2| 62.4| 58.0|  334| 4.2|4.23|2.63|\n",
      "| 0.31|   Good|    J|    SI2| 63.3| 58.0|  335|4.34|4.35|2.75|\n",
      "+-----+-------+-----+-------+-----+-----+-----+----+----+----+\n",
      "only showing top 5 rows\n",
      "\n",
      "root\n",
      " |-- carat: float (nullable = true)\n",
      " |-- cut: string (nullable = true)\n",
      " |-- color: string (nullable = true)\n",
      " |-- clarity: string (nullable = true)\n",
      " |-- depth: float (nullable = true)\n",
      " |-- table: float (nullable = true)\n",
      " |-- price: integer (nullable = true)\n",
      " |-- x: float (nullable = true)\n",
      " |-- y: float (nullable = true)\n",
      " |-- z: float (nullable = true)\n",
      "\n",
      "+-----+---+-----+-------+-----+-----+-----+---+---+---+\n",
      "|carat|cut|color|clarity|depth|table|price|  x|  y|  z|\n",
      "+-----+---+-----+-------+-----+-----+-----+---+---+---+\n",
      "|    0|  0|    0|      0|    0|    0|    0|  0|  0|  0|\n",
      "+-----+---+-----+-------+-----+-----+-----+---+---+---+\n",
      "\n"
     ]
    }
   ],
   "source": [
    "df = star_load_data('CrossValidation_regresion', 'I')\n",
    "df = df.dropna(subset=['price'])\n",
    "df.select([sum(col(c).isNull().cast('int')).alias(c) for c in df.columns]).show()\n",
    "numerical_cols = [field.name for field in df.schema.fields if isinstance(field.dataType, NumericType)and field.name != 'price']\n",
    "categorical_cols = [field.name for field in df.schema.fields if isinstance(field.dataType, StringType)]\n",
    "df = df.withColumnRenamed('price', 'label')"
   ]
  },
  {
   "cell_type": "code",
   "execution_count": 45,
   "metadata": {},
   "outputs": [],
   "source": [
    "classifier3 = DecisionTreeRegressor()"
   ]
  },
  {
   "cell_type": "code",
   "execution_count": 46,
   "metadata": {},
   "outputs": [],
   "source": [
    "df_train, df_test = df.randomSplit([0.8, 0.2], seed=42)"
   ]
  },
  {
   "cell_type": "code",
   "execution_count": 47,
   "metadata": {},
   "outputs": [],
   "source": [
    "pipeline = Pipeline(stages = [\n",
    "    # 1. Indexers para columnas categóricas: \n",
    "    *indexers_features, # ponemos * porque es una lista de objetos\n",
    "    # 2. Imputer para categóricas\n",
    "    imputer_categorical,\n",
    "    # 3. One Hot Encoders para categóricas\n",
    "    *encoders_onehot, # ponemos * porque es una lista de objetos\n",
    "    # 4. Imputer para numéricas\n",
    "    imputer_numerical,\n",
    "    # 5. Ensamblar numéricas + escalado\n",
    "    assembler_numerical,\n",
    "    scaler,\n",
    "    # 6. Ensamblar numéricas escaladas + categóricas en una sola columna 'features'\n",
    "    assembler_all,\n",
    "    # 7. modelo de clasificación\n",
    "    classifier3\n",
    "])"
   ]
  },
  {
   "cell_type": "code",
   "execution_count": 48,
   "metadata": {},
   "outputs": [],
   "source": [
    "paramGrid2 = (\n",
    "    ParamGridBuilder()\n",
    "    .addGrid(classifier3.maxDepth, [5, 10, 15, 20, 25]) # por defecto es 5\n",
    "    .addGrid(classifier3.minInstancesPerNode, [1, 5, 10]) \n",
    "    .addGrid(classifier3.maxBins, [32, 64, 128])\n",
    "    .build()\n",
    ")"
   ]
  },
  {
   "cell_type": "code",
   "execution_count": 49,
   "metadata": {},
   "outputs": [],
   "source": [
    "crossval = CrossValidator(\n",
    "    estimator=pipeline,\n",
    "    estimatorParamMaps=paramGrid2, # Parámetros para grid search hyper parameter tuning\n",
    "    evaluator=evaluator_r2,\n",
    "    numFolds=3, # por defecto ya 3 folds\n",
    "    seed=42\n",
    ")\n",
    "cv_model = crossval.fit(df_train)\n",
    "df_pred = cv_model.transform(df_test)"
   ]
  },
  {
   "cell_type": "code",
   "execution_count": 50,
   "metadata": {},
   "outputs": [
    {
     "name": "stdout",
     "output_type": "stream",
     "text": [
      "r2 0.9623060942894921\n",
      "mae 363.36749042739615\n",
      "mse 613291.6739826986\n",
      "rmse 783.1294107506744\n"
     ]
    }
   ],
   "source": [
    "print('r2', evaluator_r2.evaluate(df_pred))\n",
    "print('mae', evaluator_mae.evaluate(df_pred))\n",
    "print('mse', evaluator_mse.evaluate(df_pred))\n",
    "print('rmse', evaluator_rmse.evaluate(df_pred))"
   ]
  },
  {
   "cell_type": "code",
   "execution_count": 51,
   "metadata": {},
   "outputs": [
    {
     "name": "stdout",
     "output_type": "stream",
     "text": [
      "DecisionTreeRegressionModel: uid=DecisionTreeRegressor_e2ee001b1299, depth=20, numNodes=12495, numFeatures=23\n",
      "{Param(parent='DecisionTreeRegressor_e2ee001b1299', name='cacheNodeIds', doc='If false, the algorithm will pass trees to executors to match instances with nodes. If true, the algorithm will cache node IDs for each instance. Caching can speed up training of deeper trees. Users can set how often should the cache be checkpointed or disable it by setting checkpointInterval.'): False, Param(parent='DecisionTreeRegressor_e2ee001b1299', name='checkpointInterval', doc='set checkpoint interval (>= 1) or disable checkpoint (-1). E.g. 10 means that the cache will get checkpointed every 10 iterations. Note: this setting will be ignored if the checkpoint directory is not set in the SparkContext.'): 10, Param(parent='DecisionTreeRegressor_e2ee001b1299', name='featuresCol', doc='features column name.'): 'features', Param(parent='DecisionTreeRegressor_e2ee001b1299', name='impurity', doc='Criterion used for information gain calculation (case-insensitive). Supported options: variance'): 'variance', Param(parent='DecisionTreeRegressor_e2ee001b1299', name='labelCol', doc='label column name.'): 'label', Param(parent='DecisionTreeRegressor_e2ee001b1299', name='leafCol', doc='Leaf indices column name. Predicted leaf index of each instance in each tree by preorder.'): '', Param(parent='DecisionTreeRegressor_e2ee001b1299', name='maxBins', doc='Max number of bins for discretizing continuous features.  Must be >=2 and >= number of categories for any categorical feature.'): 128, Param(parent='DecisionTreeRegressor_e2ee001b1299', name='maxDepth', doc='Maximum depth of the tree. (>= 0) E.g., depth 0 means 1 leaf node; depth 1 means 1 internal node + 2 leaf nodes. Must be in range [0, 30].'): 20, Param(parent='DecisionTreeRegressor_e2ee001b1299', name='maxMemoryInMB', doc='Maximum memory in MB allocated to histogram aggregation. If too small, then 1 node will be split per iteration, and its aggregates may exceed this size.'): 256, Param(parent='DecisionTreeRegressor_e2ee001b1299', name='minInfoGain', doc='Minimum information gain for a split to be considered at a tree node.'): 0.0, Param(parent='DecisionTreeRegressor_e2ee001b1299', name='minInstancesPerNode', doc='Minimum number of instances each child must have after split. If a split causes the left or right child to have fewer than minInstancesPerNode, the split will be discarded as invalid. Should be >= 1.'): 5, Param(parent='DecisionTreeRegressor_e2ee001b1299', name='minWeightFractionPerNode', doc='Minimum fraction of the weighted sample count that each child must have after split. If a split causes the fraction of the total weight in the left or right child to be less than minWeightFractionPerNode, the split will be discarded as invalid. Should be in interval [0.0, 0.5).'): 0.0, Param(parent='DecisionTreeRegressor_e2ee001b1299', name='predictionCol', doc='prediction column name.'): 'prediction', Param(parent='DecisionTreeRegressor_e2ee001b1299', name='seed', doc='random seed.'): 3182180748262109691}\n",
      "20\n",
      "5\n",
      "128\n",
      "0.0\n",
      "(23,[0,1,2,3,4,5,6,7,8,9,10,11,12,13,14,15,16,17,18,19,20,21,22],[0.6747281634163229,0.004247667643677659,0.001965943901232393,0.0016628514556130737,0.2231331664996212,0.0031603666917139972,0.001118303766379283,0.00021665389559430035,0.00017764545125011771,0.00024149366270776699,0.007218721733582061,0.005332436453144253,0.005018592143896856,0.004441600633202555,0.0063887726661202085,0.004308337758483503,0.014495085742175687,0.0048314409785442875,0.019323795739469705,0.004738300139488253,0.004835606278416664,0.004229487995192699,0.004185565354170447])\n"
     ]
    }
   ],
   "source": [
    "best_model = cv_model.bestModel\n",
    "best_rf = best_model.stages[-1] # accede a la última fase del pipeline que es el modelo classifier\n",
    "print(best_rf)\n",
    "print(best_rf.extractParamMap())\n",
    "print(best_rf.getOrDefault('maxDepth'))\n",
    "print(best_rf.getOrDefault('minInstancesPerNode'))\n",
    "print(best_rf.getOrDefault('maxBins'))\n",
    "print(best_rf.getOrDefault('minInfoGain'))\n",
    "print(best_rf.featureImportances)"
   ]
  },
  {
   "cell_type": "code",
   "execution_count": 52,
   "metadata": {},
   "outputs": [
    {
     "name": "stdout",
     "output_type": "stream",
     "text": [
      "Sesión detenida.\n"
     ]
    }
   ],
   "source": [
    "df = star_load_data('', 'S')"
   ]
  }
 ],
 "metadata": {
  "kernelspec": {
   "display_name": "Python 3 (ipykernel)",
   "language": "python",
   "name": "python3"
  },
  "language_info": {
   "codemirror_mode": {
    "name": "ipython",
    "version": 3
   },
   "file_extension": ".py",
   "mimetype": "text/x-python",
   "name": "python",
   "nbconvert_exporter": "python",
   "pygments_lexer": "ipython3",
   "version": "3.11.6"
  }
 },
 "nbformat": 4,
 "nbformat_minor": 2
}
